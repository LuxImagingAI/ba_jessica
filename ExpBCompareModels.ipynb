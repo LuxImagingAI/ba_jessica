{
 "cells": [
  {
   "cell_type": "code",
   "execution_count": 9,
   "id": "44b3e947-fedb-49fd-8a57-8e308ffc767a",
   "metadata": {
    "tags": []
   },
   "outputs": [],
   "source": [
    "from easydict import EasyDict as edict\n",
    "import json, os\n",
    "import torch\n",
    "\n",
    "import pandas as pd\n",
    "import numpy as np\n",
    "\n",
    "import seaborn as sns\n",
    "\n",
    "from scipy.special import expit\n",
    "import sklearn.metrics as skm\n",
    "\n",
    "import matplotlib.pyplot as plt"
   ]
  },
  {
   "cell_type": "markdown",
   "id": "b567fe63-1d22-4f3b-bdef-e0edce9b03dd",
   "metadata": {},
   "source": [
    "#### Chexpert Code"
   ]
  },
  {
   "cell_type": "code",
   "execution_count": 10,
   "id": "b8ca64e7-93d4-43d3-84d7-b1c61faecc1c",
   "metadata": {},
   "outputs": [
    {
     "data": {
      "text/plain": [
       "['/work/projects/covid19_dv/jessica_ba/results_1-5_old_selection_70k_4/test_custom_predictions.csv',\n",
       " '/work/projects/covid19_dv/jessica_ba/results_1-5_old_selection_70k_3/test_custom_predictions.csv',\n",
       " '/work/projects/covid19_dv/jessica_ba/results_1-5_young_selection_70k_9/test_custom_predictions.csv',\n",
       " '/work/projects/covid19_dv/jessica_ba/results_1-5_young_selection_70k_4/test_custom_predictions.csv',\n",
       " '/work/projects/covid19_dv/jessica_ba/results_1-5_young_selection_70k_1/test_custom_predictions.csv',\n",
       " '/work/projects/covid19_dv/jessica_ba/results_1-5_female_70k_3/test_custom_predictions.csv',\n",
       " '/work/projects/covid19_dv/jessica_ba/results_1-5_female_70k_4/test_custom_predictions.csv',\n",
       " '/work/projects/covid19_dv/jessica_ba/results_1-5_female_70k_1/test_custom_predictions.csv',\n",
       " '/work/projects/covid19_dv/jessica_ba/results_1-5_male_70k_5/test_custom_predictions.csv',\n",
       " '/work/projects/covid19_dv/jessica_ba/results_1-5_male_70k_7/test_custom_predictions.csv',\n",
       " '/work/projects/covid19_dv/jessica_ba/results_70k_2/test_custom_predictions.csv',\n",
       " '/work/projects/covid19_dv/jessica_ba/results_70k_6/test_custom_predictions.csv',\n",
       " '/work/projects/covid19_dv/jessica_ba/results_1-5_male_70k_1/test_custom_predictions.csv',\n",
       " '/work/projects/covid19_dv/jessica_ba/results_1-5_male_70k_6/test_custom_predictions.csv',\n",
       " '/work/projects/covid19_dv/jessica_ba/results_1-5_young_selection_70k_7/test_custom_predictions.csv',\n",
       " '/work/projects/covid19_dv/jessica_ba/results_1-5_male_70k_8/test_custom_predictions.csv',\n",
       " '/work/projects/covid19_dv/jessica_ba/results_1-5_young_selection_70k_2/test_custom_predictions.csv',\n",
       " '/work/projects/covid19_dv/jessica_ba/results_1-5_female_70k_10/test_custom_predictions.csv',\n",
       " '/work/projects/covid19_dv/jessica_ba/results_male_2_70k/test_custom_predictions.csv',\n",
       " '/work/projects/covid19_dv/jessica_ba/results_70k_4/test_custom_predictions.csv',\n",
       " '/work/projects/covid19_dv/jessica_ba/results_70k_3/test_custom_predictions.csv',\n",
       " '/work/projects/covid19_dv/jessica_ba/results_1-5_young_selection_70k_10/test_custom_predictions.csv',\n",
       " '/work/projects/covid19_dv/jessica_ba/results_1-5_old_selection_70k_7/test_custom_predictions.csv',\n",
       " '/work/projects/covid19_dv/jessica_ba/results_1-5_male_70k_3/test_custom_predictions.csv',\n",
       " '/work/projects/covid19_dv/jessica_ba/results_1-5_old_selection_70k_6/test_custom_predictions.csv',\n",
       " '/work/projects/covid19_dv/jessica_ba/results_3_male_70k/test_custom_predictions.csv',\n",
       " '/work/projects/covid19_dv/jessica_ba/results_1_male_70k/test_custom_predictions.csv',\n",
       " '/work/projects/covid19_dv/jessica_ba/results_1-5_old_selection_70k_8/test_custom_predictions.csv',\n",
       " '/work/projects/covid19_dv/jessica_ba/results_1-5_male_70k_4/test_custom_predictions.csv',\n",
       " '/work/projects/covid19_dv/jessica_ba/results/test_custom_predictions.csv',\n",
       " '/work/projects/covid19_dv/jessica_ba/results_1-5_young_selection_70k_6/test_custom_predictions.csv',\n",
       " '/work/projects/covid19_dv/jessica_ba/results_1-5_old_selection_70k_5/test_custom_predictions.csv',\n",
       " '/work/projects/covid19_dv/jessica_ba/results_1-5_female_70k_7/test_custom_predictions.csv',\n",
       " '/work/projects/covid19_dv/jessica_ba/results_1-5_old_selection_70k_2/test_custom_predictions.csv',\n",
       " '/work/projects/covid19_dv/jessica_ba/results_70k_8/test_custom_predictions.csv',\n",
       " '/work/projects/covid19_dv/jessica_ba/results_1-5_old_selection_70k_9/test_custom_predictions.csv',\n",
       " '/work/projects/covid19_dv/jessica_ba/results_1-5_young_selection_70k_5/test_custom_predictions.csv',\n",
       " '/work/projects/covid19_dv/jessica_ba/results_1-5_old_selection_70k_10/test_custom_predictions.csv',\n",
       " '/work/projects/covid19_dv/jessica_ba/results_female/test_custom_predictions.csv',\n",
       " '/work/projects/covid19_dv/jessica_ba/results_1-5_young_selection_70k_8/test_custom_predictions.csv',\n",
       " '/work/projects/covid19_dv/jessica_ba/results_1-5_male_70k_10/test_custom_predictions.csv',\n",
       " '/work/projects/covid19_dv/jessica_ba/results_70k/test_custom_predictions.csv',\n",
       " '/work/projects/covid19_dv/jessica_ba/results_1-5_female_70k_2/test_custom_predictions.csv',\n",
       " '/work/projects/covid19_dv/jessica_ba/results_1-5_female_70k_9/test_custom_predictions.csv',\n",
       " '/work/projects/covid19_dv/jessica_ba/results_1-5_male_70k_2/test_custom_predictions.csv',\n",
       " '/work/projects/covid19_dv/jessica_ba/results_1-5_male_70k_9/test_custom_predictions.csv',\n",
       " '/work/projects/covid19_dv/jessica_ba/results_1-5_female_70k_5/test_custom_predictions.csv',\n",
       " '/work/projects/covid19_dv/jessica_ba/results_1-5_young_selection_70k_3/test_custom_predictions.csv',\n",
       " '/work/projects/covid19_dv/jessica_ba/results_70k_7/test_custom_predictions.csv',\n",
       " '/work/projects/covid19_dv/jessica_ba/results_70k_5/test_custom_predictions.csv',\n",
       " '/work/projects/covid19_dv/jessica_ba/results_1-5_female_70k_6/test_custom_predictions.csv',\n",
       " '/work/projects/covid19_dv/jessica_ba/results_female_70k/test_custom_predictions.csv',\n",
       " '/work/projects/covid19_dv/jessica_ba/results_1-5_old_selection_70k_1/test_custom_predictions.csv',\n",
       " '/work/projects/covid19_dv/jessica_ba/results_70k_1/test_custom_predictions.csv',\n",
       " '/work/projects/covid19_dv/jessica_ba/results_1-5_female_70k_8/test_custom_predictions.csv']"
      ]
     },
     "execution_count": 10,
     "metadata": {},
     "output_type": "execute_result"
    }
   ],
   "source": [
    "import sys\n",
    "sys.path.append('/home/users/jschott/Chexpert/')\n",
    "from model.classifier import Classifier\n",
    "from data.dataset import ImageDataset \n",
    "\n",
    "import glob\n",
    "glob.glob('/work/projects/covid19_dv/jessica_ba/*/test_custom_predictions.csv')"
   ]
  },
  {
   "cell_type": "markdown",
   "id": "e042d8ef-3c1b-4cc9-8f21-046c405027ef",
   "metadata": {},
   "source": [
    "## Load predictions of different models"
   ]
  },
  {
   "cell_type": "code",
   "execution_count": 11,
   "id": "3400b4a8-f45b-4feb-bf86-45fd725097b5",
   "metadata": {},
   "outputs": [],
   "source": [
    "# alle Predictions die geladen werden sollen, mit namen unter dem Sie verwendet werden sollen\n",
    "prediction_files = {\n",
    "    'female': '/work/projects/covid19_dv/jessica_ba/results_1-5_female_70k',\n",
    "    'male': '/work/projects/covid19_dv/jessica_ba/results_1-5_male_70k',\n",
    "    'mixed': '/work/projects/covid19_dv/jessica_ba/results_70k',\n",
    "    'old_selection': '/work/projects/covid19_dv/jessica_ba/results_1-5_old_selection_70k',\n",
    "    'young_selection': '/work/projects/covid19_dv/jessica_ba/results_1-5_young_selection_70k'\n",
    "\n",
    "}"
   ]
  },
  {
   "cell_type": "code",
   "execution_count": 12,
   "id": "d514a0a9-fb95-4ab0-b764-181c3fade362",
   "metadata": {},
   "outputs": [],
   "source": [
    "pathology = 'Edema' #'Consolidation'# #'Cardiomegaly'"
   ]
  },
  {
   "cell_type": "code",
   "execution_count": 13,
   "id": "11f77fd8-0809-46fc-9d2c-dc1af30bb047",
   "metadata": {},
   "outputs": [],
   "source": [
    "evaluation_sex_selection = {\n",
    "    'male': ['Male'],\n",
    "    'female':  ['Female'], \n",
    "    'mixed': ['Male', 'Female']\n",
    "}"
   ]
  },
  {
   "cell_type": "code",
   "execution_count": 14,
   "id": "0831bec2-c17e-4b3d-a1d0-0fe9160c4336",
   "metadata": {},
   "outputs": [
    {
     "data": {
      "text/plain": [
       "Index(['Path', 'Sex', 'Age', 'Frontal/Lateral', 'AP/PA', 'No Finding',\n",
       "       'Enlarged Cardiomediastinum', 'Cardiomegaly', 'Lung Opacity',\n",
       "       'Lung Lesion', 'Edema', 'Consolidation', 'Pneumonia', 'Atelectasis',\n",
       "       'Pneumothorax', 'Pleural Effusion', 'Pleural Other', 'Fracture',\n",
       "       'Support Devices', 'PatientId'],\n",
       "      dtype='object')"
      ]
     },
     "execution_count": 14,
     "metadata": {},
     "output_type": "execute_result"
    }
   ],
   "source": [
    "truth_df.columns"
   ]
  },
  {
   "cell_type": "code",
   "execution_count": 15,
   "id": "92eddcce-169c-4816-9da7-f14b10509123",
   "metadata": {},
   "outputs": [],
   "source": [
    "results = []\n",
    "\n",
    "for pathology in ['Edema', 'Consolidation', 'Cardiomegaly', 'Atelectasis', 'Pleural Effusion']:\n",
    "    for k in range(1,9):\n",
    "        for exp_name, file in prediction_files.items(): \n",
    "            probabilities = pd.read_csv(file +f'_{k}/test_custom_predictions.csv')\n",
    "            truth_df = pd.read_csv(f'/work/projects/covid19_dv/jessica_ba/config/valid_expB{k}.csv')\n",
    "\n",
    "            for eval_pop_sex in evaluation_sex_selection:\n",
    "\n",
    "                population_selection = truth_df.Sex.isin(evaluation_sex_selection[eval_pop_sex]) \n",
    "\n",
    "                targets = truth_df[pathology].fillna(0)    # Spalte mit 0en Auffüllen\n",
    "                not_ignore = targets >= 0            # ignoriere alle Werte kleiner 0\n",
    "                #print(f'{(~not_ignore).sum()} images neglected due to -1') # formatiert den String (die Variable in den geschweiften Klammern)\n",
    "\n",
    "                auc = skm.roc_auc_score( # berechne, wie gut das Modell vorhersagt für die jeweilige Krankheit mit den Werten >= 0\n",
    "                    targets[not_ignore & population_selection], \n",
    "                    probabilities[pathology][not_ignore & population_selection]\n",
    "                ) \n",
    "\n",
    "                lloss = skm.log_loss(\n",
    "                    targets[not_ignore & population_selection], \n",
    "                    probabilities[pathology][not_ignore & population_selection]\n",
    "                )\n",
    "\n",
    "                results.append([k, exp_name, pathology, auc, lloss, eval_pop_sex])"
   ]
  },
  {
   "cell_type": "code",
   "execution_count": 16,
   "id": "98348b07-4e70-4367-a082-7c45aa074a6f",
   "metadata": {},
   "outputs": [],
   "source": [
    "results = pd.DataFrame(results, columns = ['iter','train_population', 'pathology', 'AUC', 'log loss', 'eval_sex'])"
   ]
  },
  {
   "cell_type": "code",
   "execution_count": 17,
   "id": "42b7a521-9b39-4c73-a32a-74dd15ef4dd5",
   "metadata": {},
   "outputs": [
    {
     "data": {
      "text/html": [
       "<div>\n",
       "<style scoped>\n",
       "    .dataframe tbody tr th:only-of-type {\n",
       "        vertical-align: middle;\n",
       "    }\n",
       "\n",
       "    .dataframe tbody tr th {\n",
       "        vertical-align: top;\n",
       "    }\n",
       "\n",
       "    .dataframe thead th {\n",
       "        text-align: right;\n",
       "    }\n",
       "</style>\n",
       "<table border=\"1\" class=\"dataframe\">\n",
       "  <thead>\n",
       "    <tr style=\"text-align: right;\">\n",
       "      <th></th>\n",
       "      <th>iter</th>\n",
       "      <th>train_population</th>\n",
       "      <th>pathology</th>\n",
       "      <th>AUC</th>\n",
       "      <th>log loss</th>\n",
       "      <th>eval_sex</th>\n",
       "    </tr>\n",
       "  </thead>\n",
       "  <tbody>\n",
       "    <tr>\n",
       "      <th>0</th>\n",
       "      <td>1</td>\n",
       "      <td>female</td>\n",
       "      <td>Edema</td>\n",
       "      <td>0.844662</td>\n",
       "      <td>0.578344</td>\n",
       "      <td>male</td>\n",
       "    </tr>\n",
       "    <tr>\n",
       "      <th>1</th>\n",
       "      <td>1</td>\n",
       "      <td>female</td>\n",
       "      <td>Edema</td>\n",
       "      <td>0.845975</td>\n",
       "      <td>0.591570</td>\n",
       "      <td>female</td>\n",
       "    </tr>\n",
       "    <tr>\n",
       "      <th>2</th>\n",
       "      <td>1</td>\n",
       "      <td>female</td>\n",
       "      <td>Edema</td>\n",
       "      <td>0.845406</td>\n",
       "      <td>0.583640</td>\n",
       "      <td>mixed</td>\n",
       "    </tr>\n",
       "    <tr>\n",
       "      <th>3</th>\n",
       "      <td>1</td>\n",
       "      <td>male</td>\n",
       "      <td>Edema</td>\n",
       "      <td>0.841479</td>\n",
       "      <td>0.584468</td>\n",
       "      <td>male</td>\n",
       "    </tr>\n",
       "    <tr>\n",
       "      <th>4</th>\n",
       "      <td>1</td>\n",
       "      <td>male</td>\n",
       "      <td>Edema</td>\n",
       "      <td>0.834754</td>\n",
       "      <td>0.598776</td>\n",
       "      <td>female</td>\n",
       "    </tr>\n",
       "  </tbody>\n",
       "</table>\n",
       "</div>"
      ],
      "text/plain": [
       "   iter train_population pathology       AUC  log loss eval_sex\n",
       "0     1           female     Edema  0.844662  0.578344     male\n",
       "1     1           female     Edema  0.845975  0.591570   female\n",
       "2     1           female     Edema  0.845406  0.583640    mixed\n",
       "3     1             male     Edema  0.841479  0.584468     male\n",
       "4     1             male     Edema  0.834754  0.598776   female"
      ]
     },
     "execution_count": 17,
     "metadata": {},
     "output_type": "execute_result"
    }
   ],
   "source": [
    "results.head()"
   ]
  },
  {
   "cell_type": "code",
   "execution_count": 18,
   "id": "d9bfd147-15ef-4522-b855-1971e0951c53",
   "metadata": {},
   "outputs": [
    {
     "data": {
      "text/plain": [
       "<seaborn.axisgrid.FacetGrid at 0x2aab6814f790>"
      ]
     },
     "execution_count": 18,
     "metadata": {},
     "output_type": "execute_result"
    },
    {
     "data": {
      "image/png": "[encoded data removed]",
      "text/plain": [
       "<Figure size 864x648 with 3 Axes>"
      ]
     },
     "metadata": {
      "needs_background": "light"
     },
     "output_type": "display_data"
    }
   ],
   "source": [
    "#fig, ax = plt.subplots(figsize=(20,15))\n",
    "g = sns.FacetGrid(results, row=\"eval_sex\", height=3, aspect=4)\n",
    "g.map_dataframe(sns.boxplot, x='pathology', y ='AUC', hue='train_population')"
   ]
  },
  {
   "cell_type": "code",
   "execution_count": 19,
   "id": "f756166d-fa1d-42a4-a5d8-b8906052c401",
   "metadata": {},
   "outputs": [
    {
     "data": {
      "image/png": "[encoded data removed]",
      "text/plain": [
       "<Figure size 432x288 with 1 Axes>"
      ]
     },
     "metadata": {
      "needs_background": "light"
     },
     "output_type": "display_data"
    }
   ],
   "source": [
    "ax = sns.boxplot(data=results[results.train_population=='male'], \n",
    "                 x = 'pathology', y = 'AUC', hue='eval_sex')\n",
    "#plt.ylim(0.8,0.9)"
   ]
  },
  {
   "cell_type": "code",
   "execution_count": 20,
   "id": "a981f71f-5824-45f1-9d6d-45479bfeb3e6",
   "metadata": {},
   "outputs": [
    {
     "data": {
      "text/plain": [
       "<seaborn.axisgrid.FacetGrid at 0x2aab68f00750>"
      ]
     },
     "execution_count": 20,
     "metadata": {},
     "output_type": "execute_result"
    },
    {
     "data": {
      "image/png": "[encoded data removed]",
      "text/plain": [
       "<Figure size 864x648 with 3 Axes>"
      ]
     },
     "metadata": {
      "needs_background": "light"
     },
     "output_type": "display_data"
    }
   ],
   "source": [
    "#fig, ax = plt.subplots(figsize=(20,15))\n",
    "g = sns.FacetGrid(results, row=\"eval_sex\", height=3, aspect=4)\n",
    "g.map_dataframe(sns.boxplot, x='pathology', y ='log loss', hue='train_population')"
   ]
  },
  {
   "cell_type": "code",
   "execution_count": 21,
   "id": "26c979c2-8332-40ab-ad04-239d05be472b",
   "metadata": {},
   "outputs": [
    {
     "data": {
      "text/html": [
       "<div>\n",
       "<style scoped>\n",
       "    .dataframe tbody tr th:only-of-type {\n",
       "        vertical-align: middle;\n",
       "    }\n",
       "\n",
       "    .dataframe tbody tr th {\n",
       "        vertical-align: top;\n",
       "    }\n",
       "\n",
       "    .dataframe thead th {\n",
       "        text-align: right;\n",
       "    }\n",
       "</style>\n",
       "<table border=\"1\" class=\"dataframe\">\n",
       "  <thead>\n",
       "    <tr style=\"text-align: right;\">\n",
       "      <th></th>\n",
       "      <th>iter</th>\n",
       "      <th>train_population</th>\n",
       "      <th>pathology</th>\n",
       "      <th>AUC</th>\n",
       "      <th>log loss</th>\n",
       "      <th>eval_sex</th>\n",
       "    </tr>\n",
       "  </thead>\n",
       "  <tbody>\n",
       "    <tr>\n",
       "      <th>0</th>\n",
       "      <td>1</td>\n",
       "      <td>female</td>\n",
       "      <td>Edema</td>\n",
       "      <td>0.844662</td>\n",
       "      <td>0.578344</td>\n",
       "      <td>male</td>\n",
       "    </tr>\n",
       "    <tr>\n",
       "      <th>1</th>\n",
       "      <td>1</td>\n",
       "      <td>female</td>\n",
       "      <td>Edema</td>\n",
       "      <td>0.845975</td>\n",
       "      <td>0.591570</td>\n",
       "      <td>female</td>\n",
       "    </tr>\n",
       "    <tr>\n",
       "      <th>2</th>\n",
       "      <td>1</td>\n",
       "      <td>female</td>\n",
       "      <td>Edema</td>\n",
       "      <td>0.845406</td>\n",
       "      <td>0.583640</td>\n",
       "      <td>mixed</td>\n",
       "    </tr>\n",
       "    <tr>\n",
       "      <th>3</th>\n",
       "      <td>1</td>\n",
       "      <td>male</td>\n",
       "      <td>Edema</td>\n",
       "      <td>0.841479</td>\n",
       "      <td>0.584468</td>\n",
       "      <td>male</td>\n",
       "    </tr>\n",
       "    <tr>\n",
       "      <th>4</th>\n",
       "      <td>1</td>\n",
       "      <td>male</td>\n",
       "      <td>Edema</td>\n",
       "      <td>0.834754</td>\n",
       "      <td>0.598776</td>\n",
       "      <td>female</td>\n",
       "    </tr>\n",
       "    <tr>\n",
       "      <th>...</th>\n",
       "      <td>...</td>\n",
       "      <td>...</td>\n",
       "      <td>...</td>\n",
       "      <td>...</td>\n",
       "      <td>...</td>\n",
       "      <td>...</td>\n",
       "    </tr>\n",
       "    <tr>\n",
       "      <th>115</th>\n",
       "      <td>8</td>\n",
       "      <td>old_selection</td>\n",
       "      <td>Edema</td>\n",
       "      <td>0.845960</td>\n",
       "      <td>0.577441</td>\n",
       "      <td>female</td>\n",
       "    </tr>\n",
       "    <tr>\n",
       "      <th>116</th>\n",
       "      <td>8</td>\n",
       "      <td>old_selection</td>\n",
       "      <td>Edema</td>\n",
       "      <td>0.851319</td>\n",
       "      <td>0.566619</td>\n",
       "      <td>mixed</td>\n",
       "    </tr>\n",
       "    <tr>\n",
       "      <th>117</th>\n",
       "      <td>8</td>\n",
       "      <td>young_selection</td>\n",
       "      <td>Edema</td>\n",
       "      <td>0.839047</td>\n",
       "      <td>0.565203</td>\n",
       "      <td>male</td>\n",
       "    </tr>\n",
       "    <tr>\n",
       "      <th>118</th>\n",
       "      <td>8</td>\n",
       "      <td>young_selection</td>\n",
       "      <td>Edema</td>\n",
       "      <td>0.830802</td>\n",
       "      <td>0.587511</td>\n",
       "      <td>female</td>\n",
       "    </tr>\n",
       "    <tr>\n",
       "      <th>119</th>\n",
       "      <td>8</td>\n",
       "      <td>young_selection</td>\n",
       "      <td>Edema</td>\n",
       "      <td>0.835133</td>\n",
       "      <td>0.574160</td>\n",
       "      <td>mixed</td>\n",
       "    </tr>\n",
       "  </tbody>\n",
       "</table>\n",
       "<p>120 rows × 6 columns</p>\n",
       "</div>"
      ],
      "text/plain": [
       "     iter train_population pathology       AUC  log loss eval_sex\n",
       "0       1           female     Edema  0.844662  0.578344     male\n",
       "1       1           female     Edema  0.845975  0.591570   female\n",
       "2       1           female     Edema  0.845406  0.583640    mixed\n",
       "3       1             male     Edema  0.841479  0.584468     male\n",
       "4       1             male     Edema  0.834754  0.598776   female\n",
       "..    ...              ...       ...       ...       ...      ...\n",
       "115     8    old_selection     Edema  0.845960  0.577441   female\n",
       "116     8    old_selection     Edema  0.851319  0.566619    mixed\n",
       "117     8  young_selection     Edema  0.839047  0.565203     male\n",
       "118     8  young_selection     Edema  0.830802  0.587511   female\n",
       "119     8  young_selection     Edema  0.835133  0.574160    mixed\n",
       "\n",
       "[120 rows x 6 columns]"
      ]
     },
     "execution_count": 21,
     "metadata": {},
     "output_type": "execute_result"
    }
   ],
   "source": [
    "results[results.pathology == 'Edema'] #.pivot(index='train_population', columns='eval_sex')"
   ]
  },
  {
   "cell_type": "code",
   "execution_count": null,
   "id": "d6ab8b68-a049-415b-b89b-f35238fc3a5e",
   "metadata": {},
   "outputs": [],
   "source": []
  },
  {
   "cell_type": "code",
   "execution_count": null,
   "id": "fbf31de5-7489-4d9d-90ba-7375885f8ffa",
   "metadata": {},
   "outputs": [],
   "source": []
  }
 ],
 "metadata": {
  "kernelspec": {
   "display_name": "nextry",
   "language": "python",
   "name": "nextry"
  },
  "language_info": {
   "codemirror_mode": {
    "name": "ipython",
    "version": 3
   },
   "file_extension": ".py",
   "mimetype": "text/x-python",
   "name": "python",
   "nbconvert_exporter": "python",
   "pygments_lexer": "ipython3",
   "version": "3.7.10"
  }
 },
 "nbformat": 4,
 "nbformat_minor": 5
}

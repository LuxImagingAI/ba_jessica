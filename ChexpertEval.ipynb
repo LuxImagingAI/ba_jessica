{
 "cells": [
  {
   "cell_type": "code",
   "execution_count": 1,
   "metadata": {},
   "outputs": [],
   "source": [
    "from easydict import EasyDict as edict\n",
    "import json, os\n",
    "import torch\n",
    "\n",
    "import pandas as pd\n",
    "import numpy as np\n",
    "\n",
    "from scipy.special import expit\n",
    "\n",
    "import matplotlib.pyplot as plt"
   ]
  },
  {
   "cell_type": "code",
   "execution_count": 2,
   "metadata": {},
   "outputs": [],
   "source": [
    "import sys\n",
    "sys.path.append('/home/users/jschott/Chexpert/')\n",
    "from model.classifier import Classifier\n",
    "from data.dataset import ImageDataset  "
   ]
  },
  {
   "cell_type": "markdown",
   "metadata": {},
   "source": [
    "## Laden der Testdaten"
   ]
  },
  {
   "cell_type": "markdown",
   "metadata": {},
   "source": [
    "### CheXpert Datensatz hat einen besonderen Testdatensatz den wir hier laden (orignal)"
   ]
  },
  {
   "cell_type": "code",
   "execution_count": 3,
   "metadata": {},
   "outputs": [],
   "source": [
    "datapath = '/work/projects/covid19_dv/raw_data/heavy_datasets/chexpert_stanford'\n",
    "\n",
    "# place of the original validation data\n",
    "original_validation_csv = pd.read_csv(os.path.join(datapath, 'CheXpert-v1.0/valid.csv'))\n",
    "\n",
    "# Hier passen wir den Dateipfad an\n",
    "original_validation_csv.Path = original_validation_csv.Path.apply(lambda x: os.path.join(datapath, x))"
   ]
  },
  {
   "cell_type": "markdown",
   "metadata": {},
   "source": [
    "Write original test data file to disk"
   ]
  },
  {
   "cell_type": "code",
   "execution_count": 4,
   "metadata": {},
   "outputs": [],
   "source": [
    "filename_original_testdata = '/home/users/jschott/chexpert_eval/test_orginal.csv'\n",
    "\n",
    "dirname = os.path.dirname(filename_original_testdata)\n",
    "if not os.path.exists(dirname):\n",
    "    os.makedirs(dirname)\n",
    "    \n",
    "original_validation_csv.to_csv(filename_original_testdata, index=False)"
   ]
  },
  {
   "cell_type": "markdown",
   "metadata": {},
   "source": [
    "### Wir haben einen **eigenen** Test- (Validierungs)datensatz gebaut, den wir hier laden"
   ]
  },
  {
   "cell_type": "code",
   "execution_count": 5,
   "metadata": {},
   "outputs": [],
   "source": [
    "custom_validation_csv = pd.read_csv('/work/projects/covid19_dv/jessica_ba/config/valid_exp1.csv')"
   ]
  },
  {
   "cell_type": "markdown",
   "metadata": {},
   "source": [
    "Write our test data file to disk"
   ]
  },
  {
   "cell_type": "code",
   "execution_count": 6,
   "metadata": {},
   "outputs": [],
   "source": [
    "filename_custom_testdata = '/home/users/jschott/chexpert_eval/test_custom.csv'\n",
    "\n",
    "dirname = os.path.dirname(filename_custom_testdata)\n",
    "if not os.path.exists(dirname):\n",
    "    os.makedirs(dirname)\n",
    "    \n",
    "custom_validation_csv.to_csv(filename_custom_testdata, index=False)"
   ]
  },
  {
   "cell_type": "markdown",
   "metadata": {},
   "source": [
    "#### Load model"
   ]
  },
  {
   "cell_type": "code",
   "execution_count": 7,
   "metadata": {},
   "outputs": [],
   "source": [
    "#which_model = 'pretrained'\n",
    "#which_model = 'exp1small'\n",
    "#which_model = 'exp_selection_female'\n",
    "#which_model = 'exp_70k'\n",
    "#which_model = 'exp_female_70k'\n",
    "#which_model = 'exp_1_male_70k' !!!!!\n",
    "#which_model = 'exp_2_male_70k'\n",
    "#which_model = 'exp_3_male_70k' !!!!\n",
    "which_model = 'exp_4_male_70k'\n",
    "#evaluate_on = filename_original_testdata\n",
    "evaluate_on = filename_custom_testdata"
   ]
  },
  {
   "cell_type": "code",
   "execution_count": 8,
   "metadata": {
    "tags": []
   },
   "outputs": [
    {
     "data": {
      "text/plain": [
       "{'config': '/work/projects/covid19_dv/jessica_ba/results_1_male_70k/cfg.json',\n",
       " 'model_weight': '/work/projects/covid19_dv/jessica_ba/results_1_male_70k//best1.ckpt',\n",
       " 'in_csv_path': '/home/users/jschott/chexpert_eval/test_custom.csv',\n",
       " 'num_workers': 8}"
      ]
     },
     "execution_count": 8,
     "metadata": {},
     "output_type": "execute_result"
    }
   ],
   "source": [
    "if which_model == 'pretrained':\n",
    "    args = {\n",
    "        'config': '/home/users/jschott/Chexpert/config/example.json',\n",
    "        'model_weight': '/home/users/jschott/Chexpert/config/pre_train.pth',       # \"Path to the trained models\"\n",
    "        'in_csv_path': evaluate_on,   # \"Path to the input image path in csv\"\n",
    "        'num_workers': 8,             # \"workers for each data loader\"\n",
    "    }\n",
    "\n",
    "elif which_model == 'exp1small':\n",
    "    args = {\n",
    "        'config': '/work/projects/covid19_dv/jessica_ba/results/cfg.json',\n",
    "        'model_weight': '/work/projects/covid19_dv/jessica_ba/results/best1.ckpt',       # \"Path to the trained models\"\n",
    "        'in_csv_path': evaluate_on,   # \"Path to the input image path in csv\"\n",
    "        'num_workers': 8,             # \"workers for each data loader\"\n",
    "    }\n",
    "elif which_model == 'exp_selection_female':\n",
    "    args = {\n",
    "        'config': '/work/projects/covid19_dv/jessica_ba/results_female/cfg.json',\n",
    "        'model_weight': '/work/projects/covid19_dv/jessica_ba/results_female/best1.ckpt',       # \"Path to the trained models\"\n",
    "        'in_csv_path': evaluate_on,   # \"Path to the input image path in csv\"\n",
    "        'num_workers': 8,             # \"workers for each data loader\"\n",
    "    }\n",
    "elif which_model == 'exp_70k':\n",
    "    args = {\n",
    "        'config': '/work/projects/covid19_dv/jessica_ba/results_70k/cfg.json',\n",
    "        'model_weight': '/work/projects/covid19_dv/jessica_ba/results_70k/best1.ckpt',       # \"Path to the trained models\"\n",
    "        'in_csv_path': evaluate_on,   # \"Path to the input image path in csv\"\n",
    "        'num_workers': 8,             # \"workers for each data loader\"\n",
    "    }\n",
    "elif which_model == 'exp_female_70k':\n",
    "    args = {\n",
    "        'config': '/work/projects/covid19_dv/jessica_ba/results_female_70k/cfg.json',\n",
    "        'model_weight': '/work/projects/covid19_dv/jessica_ba/results_fmale_70k/best1.ckpt',       # \"Path to the trained models\"\n",
    "        'in_csv_path': evaluate_on,   # \"Path to the input image path in csv\"\n",
    "        'num_workers': 8,             # \"workers for each data loader\"\n",
    "    }\n",
    "   \n",
    "elif which_model == 'exp_male_70k':\n",
    "    args = {\n",
    "        'config': '/work/projects/covid19_dv/jessica_ba/results_male_70k/cfg.json',\n",
    "        'model_weight': '/work/projects/covid19_dv/jessica_ba/results_male_70k/best1.ckpt',       # \"Path to the trained models\"\n",
    "        'in_csv_path': evaluate_on,   # \"Path to the input image path in csv\"\n",
    "        'num_workers': 8,             # \"workers for each data loader\"\n",
    "    }\n",
    "elif which_model == 'exp_1_male_70k':\n",
    "    args = {\n",
    "        'config': '/work/projects/covid19_dv/jessica_ba/results_male_70k/cfg.json',\n",
    "        'model_weight': '/work/projects/covid19_dv/jessica_ba/results_male_70k/best1.ckpt',       # \"Path to the trained models\"\n",
    "        'in_csv_path': evaluate_on,   # \"Path to the input image path in csv\"\n",
    "        'num_workers': 8,             # \"workers for each data loader\"\n",
    "    }\n",
    "elif which_model == 'exp_2_male_70k':\n",
    "    args = {\n",
    "        'config': '/work/projects/covid19_dv/jessica_ba/results_male_2_70k/cfg.json',\n",
    "        'model_weight': '/work/projects/covid19_dv/jessica_ba/results_male_2_70k/best1.ckpt',       # \"Path to the trained models\"\n",
    "        'in_csv_path': evaluate_on,   # \"Path to the input image path in csv\"\n",
    "        'num_workers': 8,             # \"workers for each data loader\"\n",
    "    } \n",
    "elif which_model == 'exp_3_male_70k':\n",
    "    args = {\n",
    "        'config': '/work/projects/covid19_dv/jessica_ba/results_3_male_70k/cfg.json',\n",
    "        'model_weight': '/work/projects/covid19_dv/jessica_ba/results_3_male_70k/best1.ckpt',       # \"Path to the trained models\"\n",
    "        'in_csv_path': evaluate_on,   # \"Path to the input image path in csv\"\n",
    "        'num_workers': 8,             # \"workers for each data loader\"\n",
    "    }  \n",
    "elif which_model == 'exp_4_male_70k':\n",
    "    args = {\n",
    "        'config': '/work/projects/covid19_dv/jessica_ba/results_1_male_70k/cfg.json',\n",
    "        'model_weight': '/work/projects/covid19_dv/jessica_ba/results_1_male_70k//best1.ckpt',       # \"Path to the trained models\"\n",
    "        'in_csv_path': evaluate_on,   # \"Path to the input image path in csv\"\n",
    "        'num_workers': 8,             # \"workers for each data loader\"\n",
    "    }  \n",
    "\n",
    "else:\n",
    "    assert(False, 'No model was found')\n",
    "    \n",
    "    \n",
    "args"
   ]
  },
  {
   "cell_type": "code",
   "execution_count": 9,
   "metadata": {},
   "outputs": [],
   "source": [
    "device = 'cuda:0'"
   ]
  },
  {
   "cell_type": "code",
   "execution_count": 10,
   "metadata": {},
   "outputs": [],
   "source": [
    "# open config\n",
    "with open(args['config']) as f:\n",
    "    cfg = edict(json.load(f))\n",
    "\n",
    "# create model\n",
    "model = Classifier(cfg)\n",
    "_ = model.to(device)\n",
    "\n",
    "# load pretrained weights/parameter\n",
    "# selbsttrainiertes Model\n",
    "ckpt = torch.load(args['model_weight'], map_location='cpu')\n",
    "\n",
    "if 'exp' in which_model:\n",
    "    model.load_state_dict(ckpt['state_dict'])\n",
    "else:\n",
    "    model.load_state_dict(ckpt)"
   ]
  },
  {
   "cell_type": "markdown",
   "metadata": {},
   "source": [
    "### Create Dataloader\n",
    "(zum laden des Datensatzes)"
   ]
  },
  {
   "cell_type": "code",
   "execution_count": 11,
   "metadata": {},
   "outputs": [],
   "source": [
    "dataset = ImageDataset(args['in_csv_path'], cfg, mode='test')\n",
    "dataloader_test = torch.utils.data.DataLoader(\n",
    "    dataset,\n",
    "    batch_size=cfg.dev_batch_size, \n",
    "    num_workers=args['num_workers'],\n",
    "    drop_last=False, \n",
    "    shuffle=False\n",
    ")"
   ]
  },
  {
   "cell_type": "code",
   "execution_count": 12,
   "metadata": {},
   "outputs": [],
   "source": [
    "prediction_pathology = [\n",
    "    'Cardiomegaly',\n",
    "    'Edema',\n",
    "    'Consolidation',\n",
    "    'Atelectasis',\n",
    "    'Pleural Effusion'\n",
    "]"
   ]
  },
  {
   "cell_type": "markdown",
   "metadata": {},
   "source": [
    "## Vorhersagen durchfueheren"
   ]
  },
  {
   "cell_type": "code",
   "execution_count": 13,
   "metadata": {},
   "outputs": [],
   "source": [
    "model.eval()\n",
    "\n",
    "predictions = []\n",
    "for image_batch, path in dataloader_test:\n",
    "    with torch.no_grad():\n",
    "        batch_prediction, _ = model(image_batch.to(device))\n",
    "    batch_prediction = np.hstack([p.cpu().numpy() for p in batch_prediction])\n",
    "    predictions.append(batch_prediction)\n",
    "predictions = np.vstack(predictions)"
   ]
  },
  {
   "cell_type": "code",
   "execution_count": 14,
   "metadata": {},
   "outputs": [],
   "source": [
    "# konvertieren der Modellausgabe zu Wahrscheinlichkeiten (sigmoid funktion) \n",
    "probabilities = expit(predictions)\n",
    "\n",
    "# umwandeln in pandas dataframe\n",
    "probabilities = pd.DataFrame(probabilities, columns=prediction_pathology)"
   ]
  },
  {
   "cell_type": "markdown",
   "metadata": {},
   "source": [
    "#### Abspeichern der Predictions"
   ]
  },
  {
   "cell_type": "code",
   "execution_count": 15,
   "metadata": {},
   "outputs": [],
   "source": [
    "if 'test_custom' in evaluate_on:\n",
    "    probabilities.to_csv(os.path.dirname(args['model_weight'])+ '/test_custom_predictions.csv')\n",
    "elif 'test_orginal' in evaluate_on:\n",
    "    probabilities.to_csv(os.path.dirname(args['model_weight'])+ '/test_original_predictions.csv')"
   ]
  },
  {
   "cell_type": "code",
   "execution_count": 16,
   "metadata": {},
   "outputs": [
    {
     "data": {
      "text/plain": [
       "<AxesSubplot:>"
      ]
     },
     "execution_count": 16,
     "metadata": {},
     "output_type": "execute_result"
    },
    {
     "data": {
      "image/png": "[encoded data removed]",
      "text/plain": [
       "<Figure size 432x288 with 1 Axes>"
      ]
     },
     "metadata": {
      "needs_background": "light"
     },
     "output_type": "display_data"
    }
   ],
   "source": [
    "probabilities['Cardiomegaly'].hist(bins= 100)"
   ]
  },
  {
   "cell_type": "markdown",
   "metadata": {},
   "source": [
    "### Evaluation des Modells"
   ]
  },
  {
   "cell_type": "markdown",
   "metadata": {},
   "source": [
    "d.h. vergleich mit den \"echten\" Targets"
   ]
  },
  {
   "cell_type": "code",
   "execution_count": 17,
   "metadata": {},
   "outputs": [],
   "source": [
    "import sklearn.metrics as skm"
   ]
  },
  {
   "cell_type": "code",
   "execution_count": 18,
   "metadata": {},
   "outputs": [],
   "source": [
    "#evaluate_on = original_validation_csv.copy()\n",
    "evaluate_on = custom_validation_csv.copy()"
   ]
  },
  {
   "cell_type": "code",
   "execution_count": 19,
   "metadata": {},
   "outputs": [
    {
     "data": {
      "text/html": [
       "<div>\n",
       "<style scoped>\n",
       "    .dataframe tbody tr th:only-of-type {\n",
       "        vertical-align: middle;\n",
       "    }\n",
       "\n",
       "    .dataframe tbody tr th {\n",
       "        vertical-align: top;\n",
       "    }\n",
       "\n",
       "    .dataframe thead th {\n",
       "        text-align: right;\n",
       "    }\n",
       "</style>\n",
       "<table border=\"1\" class=\"dataframe\">\n",
       "  <thead>\n",
       "    <tr style=\"text-align: right;\">\n",
       "      <th></th>\n",
       "      <th>Path</th>\n",
       "      <th>Sex</th>\n",
       "      <th>Age</th>\n",
       "      <th>Frontal/Lateral</th>\n",
       "      <th>AP/PA</th>\n",
       "      <th>No Finding</th>\n",
       "      <th>Enlarged Cardiomediastinum</th>\n",
       "      <th>Cardiomegaly</th>\n",
       "      <th>Lung Opacity</th>\n",
       "      <th>Lung Lesion</th>\n",
       "      <th>Edema</th>\n",
       "      <th>Consolidation</th>\n",
       "      <th>Pneumonia</th>\n",
       "      <th>Atelectasis</th>\n",
       "      <th>Pneumothorax</th>\n",
       "      <th>Pleural Effusion</th>\n",
       "      <th>Pleural Other</th>\n",
       "      <th>Fracture</th>\n",
       "      <th>Support Devices</th>\n",
       "      <th>PatientId</th>\n",
       "    </tr>\n",
       "  </thead>\n",
       "  <tbody>\n",
       "    <tr>\n",
       "      <th>0</th>\n",
       "      <td>/work/projects/covid19_dv/raw_data/heavy_datas...</td>\n",
       "      <td>Male</td>\n",
       "      <td>33</td>\n",
       "      <td>Frontal</td>\n",
       "      <td>PA</td>\n",
       "      <td>1.0</td>\n",
       "      <td>NaN</td>\n",
       "      <td>0.0</td>\n",
       "      <td>NaN</td>\n",
       "      <td>NaN</td>\n",
       "      <td>NaN</td>\n",
       "      <td>0.0</td>\n",
       "      <td>NaN</td>\n",
       "      <td>NaN</td>\n",
       "      <td>NaN</td>\n",
       "      <td>0.0</td>\n",
       "      <td>NaN</td>\n",
       "      <td>NaN</td>\n",
       "      <td>1.0</td>\n",
       "      <td>patient00005</td>\n",
       "    </tr>\n",
       "    <tr>\n",
       "      <th>1</th>\n",
       "      <td>/work/projects/covid19_dv/raw_data/heavy_datas...</td>\n",
       "      <td>Male</td>\n",
       "      <td>33</td>\n",
       "      <td>Lateral</td>\n",
       "      <td>NaN</td>\n",
       "      <td>1.0</td>\n",
       "      <td>NaN</td>\n",
       "      <td>0.0</td>\n",
       "      <td>NaN</td>\n",
       "      <td>NaN</td>\n",
       "      <td>NaN</td>\n",
       "      <td>0.0</td>\n",
       "      <td>NaN</td>\n",
       "      <td>NaN</td>\n",
       "      <td>NaN</td>\n",
       "      <td>0.0</td>\n",
       "      <td>NaN</td>\n",
       "      <td>NaN</td>\n",
       "      <td>1.0</td>\n",
       "      <td>patient00005</td>\n",
       "    </tr>\n",
       "    <tr>\n",
       "      <th>2</th>\n",
       "      <td>/work/projects/covid19_dv/raw_data/heavy_datas...</td>\n",
       "      <td>Male</td>\n",
       "      <td>33</td>\n",
       "      <td>Frontal</td>\n",
       "      <td>AP</td>\n",
       "      <td>NaN</td>\n",
       "      <td>NaN</td>\n",
       "      <td>NaN</td>\n",
       "      <td>NaN</td>\n",
       "      <td>NaN</td>\n",
       "      <td>NaN</td>\n",
       "      <td>NaN</td>\n",
       "      <td>NaN</td>\n",
       "      <td>NaN</td>\n",
       "      <td>1.0</td>\n",
       "      <td>NaN</td>\n",
       "      <td>NaN</td>\n",
       "      <td>NaN</td>\n",
       "      <td>NaN</td>\n",
       "      <td>patient00005</td>\n",
       "    </tr>\n",
       "    <tr>\n",
       "      <th>3</th>\n",
       "      <td>/work/projects/covid19_dv/raw_data/heavy_datas...</td>\n",
       "      <td>Male</td>\n",
       "      <td>33</td>\n",
       "      <td>Frontal</td>\n",
       "      <td>AP</td>\n",
       "      <td>NaN</td>\n",
       "      <td>NaN</td>\n",
       "      <td>NaN</td>\n",
       "      <td>NaN</td>\n",
       "      <td>NaN</td>\n",
       "      <td>NaN</td>\n",
       "      <td>NaN</td>\n",
       "      <td>NaN</td>\n",
       "      <td>NaN</td>\n",
       "      <td>1.0</td>\n",
       "      <td>NaN</td>\n",
       "      <td>NaN</td>\n",
       "      <td>NaN</td>\n",
       "      <td>NaN</td>\n",
       "      <td>patient00005</td>\n",
       "    </tr>\n",
       "    <tr>\n",
       "      <th>4</th>\n",
       "      <td>/work/projects/covid19_dv/raw_data/heavy_datas...</td>\n",
       "      <td>Male</td>\n",
       "      <td>76</td>\n",
       "      <td>Frontal</td>\n",
       "      <td>PA</td>\n",
       "      <td>NaN</td>\n",
       "      <td>NaN</td>\n",
       "      <td>1.0</td>\n",
       "      <td>NaN</td>\n",
       "      <td>NaN</td>\n",
       "      <td>0.0</td>\n",
       "      <td>NaN</td>\n",
       "      <td>NaN</td>\n",
       "      <td>1.0</td>\n",
       "      <td>NaN</td>\n",
       "      <td>NaN</td>\n",
       "      <td>NaN</td>\n",
       "      <td>NaN</td>\n",
       "      <td>NaN</td>\n",
       "      <td>patient00009</td>\n",
       "    </tr>\n",
       "    <tr>\n",
       "      <th>...</th>\n",
       "      <td>...</td>\n",
       "      <td>...</td>\n",
       "      <td>...</td>\n",
       "      <td>...</td>\n",
       "      <td>...</td>\n",
       "      <td>...</td>\n",
       "      <td>...</td>\n",
       "      <td>...</td>\n",
       "      <td>...</td>\n",
       "      <td>...</td>\n",
       "      <td>...</td>\n",
       "      <td>...</td>\n",
       "      <td>...</td>\n",
       "      <td>...</td>\n",
       "      <td>...</td>\n",
       "      <td>...</td>\n",
       "      <td>...</td>\n",
       "      <td>...</td>\n",
       "      <td>...</td>\n",
       "      <td>...</td>\n",
       "    </tr>\n",
       "    <tr>\n",
       "      <th>45897</th>\n",
       "      <td>/work/projects/covid19_dv/raw_data/heavy_datas...</td>\n",
       "      <td>Male</td>\n",
       "      <td>77</td>\n",
       "      <td>Frontal</td>\n",
       "      <td>AP</td>\n",
       "      <td>NaN</td>\n",
       "      <td>1.0</td>\n",
       "      <td>NaN</td>\n",
       "      <td>NaN</td>\n",
       "      <td>NaN</td>\n",
       "      <td>NaN</td>\n",
       "      <td>NaN</td>\n",
       "      <td>NaN</td>\n",
       "      <td>NaN</td>\n",
       "      <td>NaN</td>\n",
       "      <td>-1.0</td>\n",
       "      <td>NaN</td>\n",
       "      <td>NaN</td>\n",
       "      <td>NaN</td>\n",
       "      <td>patient64528</td>\n",
       "    </tr>\n",
       "    <tr>\n",
       "      <th>45898</th>\n",
       "      <td>/work/projects/covid19_dv/raw_data/heavy_datas...</td>\n",
       "      <td>Male</td>\n",
       "      <td>81</td>\n",
       "      <td>Frontal</td>\n",
       "      <td>AP</td>\n",
       "      <td>NaN</td>\n",
       "      <td>NaN</td>\n",
       "      <td>NaN</td>\n",
       "      <td>1.0</td>\n",
       "      <td>NaN</td>\n",
       "      <td>NaN</td>\n",
       "      <td>NaN</td>\n",
       "      <td>NaN</td>\n",
       "      <td>NaN</td>\n",
       "      <td>0.0</td>\n",
       "      <td>NaN</td>\n",
       "      <td>NaN</td>\n",
       "      <td>NaN</td>\n",
       "      <td>NaN</td>\n",
       "      <td>patient64529</td>\n",
       "    </tr>\n",
       "    <tr>\n",
       "      <th>45899</th>\n",
       "      <td>/work/projects/covid19_dv/raw_data/heavy_datas...</td>\n",
       "      <td>Male</td>\n",
       "      <td>59</td>\n",
       "      <td>Frontal</td>\n",
       "      <td>AP</td>\n",
       "      <td>NaN</td>\n",
       "      <td>NaN</td>\n",
       "      <td>NaN</td>\n",
       "      <td>-1.0</td>\n",
       "      <td>NaN</td>\n",
       "      <td>NaN</td>\n",
       "      <td>NaN</td>\n",
       "      <td>NaN</td>\n",
       "      <td>-1.0</td>\n",
       "      <td>0.0</td>\n",
       "      <td>1.0</td>\n",
       "      <td>NaN</td>\n",
       "      <td>NaN</td>\n",
       "      <td>NaN</td>\n",
       "      <td>patient64537</td>\n",
       "    </tr>\n",
       "    <tr>\n",
       "      <th>45900</th>\n",
       "      <td>/work/projects/covid19_dv/raw_data/heavy_datas...</td>\n",
       "      <td>Male</td>\n",
       "      <td>59</td>\n",
       "      <td>Frontal</td>\n",
       "      <td>AP</td>\n",
       "      <td>NaN</td>\n",
       "      <td>NaN</td>\n",
       "      <td>NaN</td>\n",
       "      <td>-1.0</td>\n",
       "      <td>NaN</td>\n",
       "      <td>NaN</td>\n",
       "      <td>NaN</td>\n",
       "      <td>0.0</td>\n",
       "      <td>-1.0</td>\n",
       "      <td>NaN</td>\n",
       "      <td>-1.0</td>\n",
       "      <td>NaN</td>\n",
       "      <td>NaN</td>\n",
       "      <td>NaN</td>\n",
       "      <td>patient64537</td>\n",
       "    </tr>\n",
       "    <tr>\n",
       "      <th>45901</th>\n",
       "      <td>/work/projects/covid19_dv/raw_data/heavy_datas...</td>\n",
       "      <td>Female</td>\n",
       "      <td>0</td>\n",
       "      <td>Frontal</td>\n",
       "      <td>AP</td>\n",
       "      <td>NaN</td>\n",
       "      <td>NaN</td>\n",
       "      <td>1.0</td>\n",
       "      <td>1.0</td>\n",
       "      <td>NaN</td>\n",
       "      <td>NaN</td>\n",
       "      <td>NaN</td>\n",
       "      <td>-1.0</td>\n",
       "      <td>1.0</td>\n",
       "      <td>0.0</td>\n",
       "      <td>NaN</td>\n",
       "      <td>NaN</td>\n",
       "      <td>NaN</td>\n",
       "      <td>0.0</td>\n",
       "      <td>patient64539</td>\n",
       "    </tr>\n",
       "  </tbody>\n",
       "</table>\n",
       "<p>45902 rows × 20 columns</p>\n",
       "</div>"
      ],
      "text/plain": [
       "                                                    Path     Sex  Age  \\\n",
       "0      /work/projects/covid19_dv/raw_data/heavy_datas...    Male   33   \n",
       "1      /work/projects/covid19_dv/raw_data/heavy_datas...    Male   33   \n",
       "2      /work/projects/covid19_dv/raw_data/heavy_datas...    Male   33   \n",
       "3      /work/projects/covid19_dv/raw_data/heavy_datas...    Male   33   \n",
       "4      /work/projects/covid19_dv/raw_data/heavy_datas...    Male   76   \n",
       "...                                                  ...     ...  ...   \n",
       "45897  /work/projects/covid19_dv/raw_data/heavy_datas...    Male   77   \n",
       "45898  /work/projects/covid19_dv/raw_data/heavy_datas...    Male   81   \n",
       "45899  /work/projects/covid19_dv/raw_data/heavy_datas...    Male   59   \n",
       "45900  /work/projects/covid19_dv/raw_data/heavy_datas...    Male   59   \n",
       "45901  /work/projects/covid19_dv/raw_data/heavy_datas...  Female    0   \n",
       "\n",
       "      Frontal/Lateral AP/PA  No Finding  Enlarged Cardiomediastinum  \\\n",
       "0             Frontal    PA         1.0                         NaN   \n",
       "1             Lateral   NaN         1.0                         NaN   \n",
       "2             Frontal    AP         NaN                         NaN   \n",
       "3             Frontal    AP         NaN                         NaN   \n",
       "4             Frontal    PA         NaN                         NaN   \n",
       "...               ...   ...         ...                         ...   \n",
       "45897         Frontal    AP         NaN                         1.0   \n",
       "45898         Frontal    AP         NaN                         NaN   \n",
       "45899         Frontal    AP         NaN                         NaN   \n",
       "45900         Frontal    AP         NaN                         NaN   \n",
       "45901         Frontal    AP         NaN                         NaN   \n",
       "\n",
       "       Cardiomegaly  Lung Opacity  Lung Lesion  Edema  Consolidation  \\\n",
       "0               0.0           NaN          NaN    NaN            0.0   \n",
       "1               0.0           NaN          NaN    NaN            0.0   \n",
       "2               NaN           NaN          NaN    NaN            NaN   \n",
       "3               NaN           NaN          NaN    NaN            NaN   \n",
       "4               1.0           NaN          NaN    0.0            NaN   \n",
       "...             ...           ...          ...    ...            ...   \n",
       "45897           NaN           NaN          NaN    NaN            NaN   \n",
       "45898           NaN           1.0          NaN    NaN            NaN   \n",
       "45899           NaN          -1.0          NaN    NaN            NaN   \n",
       "45900           NaN          -1.0          NaN    NaN            NaN   \n",
       "45901           1.0           1.0          NaN    NaN            NaN   \n",
       "\n",
       "       Pneumonia  Atelectasis  Pneumothorax  Pleural Effusion  Pleural Other  \\\n",
       "0            NaN          NaN           NaN               0.0            NaN   \n",
       "1            NaN          NaN           NaN               0.0            NaN   \n",
       "2            NaN          NaN           1.0               NaN            NaN   \n",
       "3            NaN          NaN           1.0               NaN            NaN   \n",
       "4            NaN          1.0           NaN               NaN            NaN   \n",
       "...          ...          ...           ...               ...            ...   \n",
       "45897        NaN          NaN           NaN              -1.0            NaN   \n",
       "45898        NaN          NaN           0.0               NaN            NaN   \n",
       "45899        NaN         -1.0           0.0               1.0            NaN   \n",
       "45900        0.0         -1.0           NaN              -1.0            NaN   \n",
       "45901       -1.0          1.0           0.0               NaN            NaN   \n",
       "\n",
       "       Fracture  Support Devices     PatientId  \n",
       "0           NaN              1.0  patient00005  \n",
       "1           NaN              1.0  patient00005  \n",
       "2           NaN              NaN  patient00005  \n",
       "3           NaN              NaN  patient00005  \n",
       "4           NaN              NaN  patient00009  \n",
       "...         ...              ...           ...  \n",
       "45897       NaN              NaN  patient64528  \n",
       "45898       NaN              NaN  patient64529  \n",
       "45899       NaN              NaN  patient64537  \n",
       "45900       NaN              NaN  patient64537  \n",
       "45901       NaN              0.0  patient64539  \n",
       "\n",
       "[45902 rows x 20 columns]"
      ]
     },
     "execution_count": 19,
     "metadata": {},
     "output_type": "execute_result"
    }
   ],
   "source": [
    "evaluate_on"
   ]
  },
  {
   "cell_type": "markdown",
   "metadata": {},
   "source": [
    "#### Performance fuer eine Krankeit"
   ]
  },
  {
   "cell_type": "code",
   "execution_count": 20,
   "metadata": {},
   "outputs": [
    {
     "name": "stdout",
     "output_type": "stream",
     "text": [
      "2656 images neglected due to -1\n"
     ]
    },
    {
     "data": {
      "text/plain": [
       "0.5589014666507904"
      ]
     },
     "execution_count": 20,
     "metadata": {},
     "output_type": "execute_result"
    }
   ],
   "source": [
    "col = 'Edema'\n",
    "\n",
    "targets = evaluate_on[col].fillna(0)    # Spalte Atelektasis mit 0en Auffüllen\n",
    "not_ignore = targets >= 0               # ignoriere alle Werte kleiner 0\n",
    "print(f'{(~not_ignore).sum()} images neglected due to -1') # formatiert den String (die Variable in den geschweiften Klammern)\n",
    "\n",
    "skm.roc_auc_score(targets[not_ignore], probabilities[col][not_ignore]) # berechne, wie gut das Modell vorhersagt für die jeweilige Krankheit mit den Werten >= 0\n",
    "skm.log_loss(targets[not_ignore], probabilities[col][not_ignore]) # berechne, wie gut das Modell vorhersagt für die jeweilige Krankheit mit den Werten >= 0"
   ]
  },
  {
   "cell_type": "code",
   "execution_count": 21,
   "metadata": {},
   "outputs": [
    {
     "data": {
      "text/plain": [
       "Text(0, 0.5, '# cases')"
      ]
     },
     "execution_count": 21,
     "metadata": {},
     "output_type": "execute_result"
    },
    {
     "data": {
      "image/png": "[encoded data removed]",
      "text/plain": [
       "<Figure size 432x288 with 1 Axes>"
      ]
     },
     "metadata": {
      "needs_background": "light"
     },
     "output_type": "display_data"
    }
   ],
   "source": [
    "plt.hist(probabilities[col][not_ignore][targets[not_ignore] == 0], alpha=0.5, bins=20, label='normal')\n",
    "plt.hist(probabilities[col][not_ignore][targets[not_ignore] == 1], alpha=0.5, bins=20, label='sick')\n",
    "plt.legend()\n",
    "plt.xlabel('predicted probabilities for sick')\n",
    "plt.xlim([0, 1])\n",
    "plt.ylabel('# cases')"
   ]
  },
  {
   "cell_type": "code",
   "execution_count": 22,
   "metadata": {},
   "outputs": [
    {
     "data": {
      "text/plain": [
       "['Cardiomegaly', 'Edema', 'Consolidation', 'Atelectasis', 'Pleural Effusion']"
      ]
     },
     "execution_count": 22,
     "metadata": {},
     "output_type": "execute_result"
    }
   ],
   "source": [
    "prediction_pathology"
   ]
  },
  {
   "cell_type": "code",
   "execution_count": 23,
   "metadata": {},
   "outputs": [
    {
     "data": {
      "text/plain": [
       "(43246,)"
      ]
     },
     "execution_count": 23,
     "metadata": {},
     "output_type": "execute_result"
    }
   ],
   "source": [
    "probabilities[col][not_ignore].shape"
   ]
  },
  {
   "cell_type": "markdown",
   "metadata": {},
   "source": [
    "#### Performance fuer alle 5 Krankheiten"
   ]
  },
  {
   "cell_type": "code",
   "execution_count": 24,
   "metadata": {},
   "outputs": [
    {
     "name": "stdout",
     "output_type": "stream",
     "text": [
      "[0.8358175387881228, 0.8407258256867256, 0.7003148236834489, 0.6729711926788324, 0.866770358827352]\n",
      "[0.44154783325037666, 0.5589014666507904, 0.6042902014464758, 0.7397527940388694, 0.6492038613214661]\n"
     ]
    }
   ],
   "source": [
    "diseases = []\n",
    "diseases_log_loss= []\n",
    "\n",
    "for i, col in enumerate(prediction_pathology):\n",
    "    targets = evaluate_on[col].fillna(0)\n",
    "    not_ignore = targets >= 0\n",
    "    diseases.append(skm.roc_auc_score(targets[not_ignore], probabilities[col][not_ignore]))\n",
    "    diseases_log_loss.append(skm.log_loss(targets[not_ignore], probabilities[col][not_ignore]))\n",
    "    \n",
    "print(diseases)\n",
    "print(diseases_log_loss)"
   ]
  },
  {
   "cell_type": "markdown",
   "metadata": {},
   "source": [
    "#### Performance getrennt nach Geschlecht"
   ]
  },
  {
   "cell_type": "code",
   "execution_count": 25,
   "metadata": {},
   "outputs": [],
   "source": [
    "selection_male = evaluate_on.Sex == 'Male'\n",
    "selection_female = evaluate_on.Sex == 'Female'"
   ]
  },
  {
   "cell_type": "code",
   "execution_count": 26,
   "metadata": {},
   "outputs": [
    {
     "name": "stdout",
     "output_type": "stream",
     "text": [
      "[0.844459410845386, 0.8452038557456399, 0.6871968374025641, 0.6711075362486657, 0.8581130152783837]\n",
      "[0.8229444752427129, 0.8353719187522073, 0.7211396866127975, 0.6761914473301638, 0.8798895504126598]\n"
     ]
    }
   ],
   "source": [
    "diseases_m = []\n",
    "diseases_f = []\n",
    "\n",
    "for i, col in enumerate(prediction_pathology):\n",
    "    \n",
    "    targets = evaluate_on.loc[selection_male ,col].fillna(0)\n",
    "    not_ignore = targets >= 0\n",
    "    diseases_m.append(skm.roc_auc_score(targets[not_ignore], probabilities.loc[selection_male, col][not_ignore]))\n",
    "    \n",
    "    targets = evaluate_on.loc[selection_female ,col].fillna(0)\n",
    "    not_ignore = targets >= 0\n",
    "    diseases_f.append(skm.roc_auc_score(targets[not_ignore], probabilities.loc[selection_female, col][not_ignore]))\n",
    "        \n",
    "print(diseases_m)\n",
    "print(diseases_f)"
   ]
  },
  {
   "cell_type": "code",
   "execution_count": 27,
   "metadata": {},
   "outputs": [
    {
     "name": "stdout",
     "output_type": "stream",
     "text": [
      "[0.436444017509453, 0.5496365039559196, 0.6040994134201496, 0.7387681377652638, 0.6488080225551186]\n",
      "[0.44898541241019607, 0.5724564479530937, 0.6045693299694782, 0.7411895719611962, 0.649779237659506]\n"
     ]
    }
   ],
   "source": [
    "diseases_m_log_loss = []\n",
    "diseases_f_log_loss = []\n",
    "\n",
    "for i, col in enumerate(prediction_pathology):\n",
    "    \n",
    "    targets = evaluate_on.loc[selection_male ,col].fillna(0)\n",
    "    not_ignore = targets >= 0\n",
    "    diseases_m_log_loss.append(skm.log_loss(targets[not_ignore], probabilities.loc[selection_male, col][not_ignore]))\n",
    "    \n",
    "    targets = evaluate_on.loc[selection_female ,col].fillna(0)\n",
    "    not_ignore = targets >= 0\n",
    "    diseases_f_log_loss.append(skm.log_loss(targets[not_ignore], probabilities.loc[selection_female, col][not_ignore]))\n",
    "    \n",
    "print(diseases_m_log_loss)\n",
    "print(diseases_f_log_loss)"
   ]
  },
  {
   "cell_type": "code",
   "execution_count": 28,
   "metadata": {},
   "outputs": [],
   "source": [
    "scores = pd.DataFrame([diseases, diseases_m, diseases_f], columns= prediction_pathology, index= ['all', 'male', 'female'])\n",
    "scores_log_less = pd.DataFrame([diseases_log_loss, diseases_m_log_loss, diseases_f_log_loss], columns= prediction_pathology, index= ['all', 'male', 'female'])"
   ]
  },
  {
   "cell_type": "code",
   "execution_count": 29,
   "metadata": {},
   "outputs": [],
   "source": [
    "import seaborn as sns"
   ]
  },
  {
   "cell_type": "code",
   "execution_count": 30,
   "metadata": {},
   "outputs": [],
   "source": [
    "data = scores.stack().reset_index().rename(columns = {'level_0' : 'cohort', 'level_1' : 'diseases', 0 : 'AUC'})\n",
    "data_log_loss = scores_log_less.stack().reset_index().rename(columns = {'level_0' : 'cohort', 'level_1' : 'diseases', 0 : 'LOG LOSS'})"
   ]
  },
  {
   "cell_type": "code",
   "execution_count": 31,
   "metadata": {},
   "outputs": [
    {
     "data": {
      "text/plain": [
       "<AxesSubplot:xlabel='diseases', ylabel='AUC'>"
      ]
     },
     "execution_count": 31,
     "metadata": {},
     "output_type": "execute_result"
    },
    {
     "data": {
      "image/png": "[encoded data removed]",
      "text/plain": [
       "<Figure size 432x288 with 1 Axes>"
      ]
     },
     "metadata": {
      "needs_background": "light"
     },
     "output_type": "display_data"
    }
   ],
   "source": [
    "sns.barplot(data = data, x = 'diseases', hue='cohort', y='AUC')"
   ]
  },
  {
   "cell_type": "code",
   "execution_count": 32,
   "metadata": {},
   "outputs": [
    {
     "data": {
      "text/plain": [
       "<AxesSubplot:xlabel='diseases', ylabel='LOG LOSS'>"
      ]
     },
     "execution_count": 32,
     "metadata": {},
     "output_type": "execute_result"
    },
    {
     "data": {
      "image/png": "[encoded data removed]",
      "text/plain": [
       "<Figure size 432x288 with 1 Axes>"
      ]
     },
     "metadata": {
      "needs_background": "light"
     },
     "output_type": "display_data"
    }
   ],
   "source": [
    "sns.barplot(data = data_log_loss, x = 'diseases', hue='cohort', y='LOG LOSS')"
   ]
  },
  {
   "cell_type": "code",
   "execution_count": null,
   "metadata": {},
   "outputs": [],
   "source": []
  },
  {
   "cell_type": "markdown",
   "metadata": {},
   "source": [
    "## Performance getrennt nach Altersgruppe"
   ]
  },
  {
   "cell_type": "code",
   "execution_count": 33,
   "metadata": {},
   "outputs": [],
   "source": [
    "### trennen nach altersgruppe (schwierigkeit stufe 1)"
   ]
  },
  {
   "cell_type": "code",
   "execution_count": 34,
   "metadata": {},
   "outputs": [],
   "source": [
    "selection_teens = (evaluate_on.Age >= 10) & (evaluate_on.Age < 20)\n",
    "selection_twenties = (evaluate_on.Age >= 20) & (evaluate_on.Age < 30)\n",
    "selection_thirties = (evaluate_on.Age >= 30) & (evaluate_on.Age < 40)\n",
    "selection_fourties = (evaluate_on.Age >= 40) & (evaluate_on.Age < 50)\n",
    "selection_fifties = (evaluate_on.Age >= 50) & (evaluate_on.Age < 60)\n",
    "selection_sixties = (evaluate_on.Age >= 60) & (evaluate_on.Age < 70)\n",
    "selection_seventies = (evaluate_on.Age >= 70) & (evaluate_on.Age < 80)\n",
    "selection_eighties = (evaluate_on.Age >= 80) & (evaluate_on.Age < 90)\n",
    "selection_nineties = (evaluate_on.Age >= 90)"
   ]
  },
  {
   "cell_type": "code",
   "execution_count": 35,
   "metadata": {},
   "outputs": [
    {
     "data": {
      "text/plain": [
       "0        33\n",
       "1        33\n",
       "2        33\n",
       "3        33\n",
       "4        76\n",
       "         ..\n",
       "45897    77\n",
       "45898    81\n",
       "45899    59\n",
       "45900    59\n",
       "45901     0\n",
       "Name: Age, Length: 45902, dtype: int64"
      ]
     },
     "execution_count": 35,
     "metadata": {},
     "output_type": "execute_result"
    }
   ],
   "source": [
    "evaluate_on.Age"
   ]
  },
  {
   "cell_type": "code",
   "execution_count": 36,
   "metadata": {},
   "outputs": [
    {
     "name": "stdout",
     "output_type": "stream",
     "text": [
      "[0.8359402772840384, 0.8552271483305967, 0.7132675438596491, 0.7327843418068982, 0.9051713395638629]\n",
      "[0.8695151206059576, 0.8648031446933301, 0.7273396763962803, 0.746065933937257, 0.8803704403572129]\n",
      "[0.8682378913037916, 0.8564699586128157, 0.7281211017983825, 0.7113243353062589, 0.8793970556520359]\n",
      "[0.833934377695767, 0.8480193638865765, 0.6951294964028776, 0.7037236711519559, 0.8865717905062264]\n",
      "[0.849742964785215, 0.8468940841943161, 0.715317290322716, 0.6815893448314666, 0.8715982861919326]\n",
      "[0.8162283870333277, 0.8348263072370931, 0.6922821125929406, 0.6497199153995981, 0.8560826370413919]\n",
      "[0.8271189435045764, 0.8239259327133396, 0.6907664010745794, 0.646883580450302, 0.8488427614159405]\n",
      "[0.7968269843940518, 0.8204644275954678, 0.6872873337498885, 0.6319152090652682, 0.8442092009112441]\n",
      "[0.7581237383697996, 0.7844895102156696, 0.634944338854195, 0.6068534792461173, 0.8604473088778021]\n"
     ]
    }
   ],
   "source": [
    "diseases_teens= []\n",
    "diseases_twenties= []\n",
    "diseases_thirties = []\n",
    "diseases_fourties = []\n",
    "diseases_fifties = []\n",
    "diseases_sixties = []\n",
    "diseases_seventies = []\n",
    "diseases_eighties = []\n",
    "diseases_nineties = []\n",
    "\n",
    "\n",
    "for i, col in enumerate(prediction_pathology):\n",
    "    \n",
    "    targets = evaluate_on.loc[selection_teens ,col].fillna(0)\n",
    "    not_ignore = targets >= 0\n",
    "    diseases_teens.append(skm.roc_auc_score(targets[not_ignore], probabilities.loc[selection_teens, col][not_ignore]))\n",
    "    \n",
    "    targets = evaluate_on.loc[selection_twenties ,col].fillna(0)\n",
    "    not_ignore = targets >= 0\n",
    "    diseases_twenties.append(skm.roc_auc_score(targets[not_ignore], probabilities.loc[selection_twenties, col][not_ignore]))\n",
    "    \n",
    "    targets = evaluate_on.loc[selection_thirties ,col].fillna(0)\n",
    "    not_ignore = targets >= 0\n",
    "    diseases_thirties.append(skm.roc_auc_score(targets[not_ignore], probabilities.loc[selection_thirties, col][not_ignore]))\n",
    "    \n",
    "    targets = evaluate_on.loc[selection_fourties,col].fillna(0)\n",
    "    not_ignore = targets >= 0\n",
    "    diseases_fourties.append(skm.roc_auc_score(targets[not_ignore], probabilities.loc[selection_fourties, col][not_ignore]))\n",
    "    \n",
    "    targets = evaluate_on.loc[selection_fifties,col].fillna(0)\n",
    "    not_ignore = targets >= 0\n",
    "    diseases_fifties.append(skm.roc_auc_score(targets[not_ignore], probabilities.loc[selection_fifties, col][not_ignore]))\n",
    "        \n",
    "    targets = evaluate_on.loc[selection_sixties ,col].fillna(0)\n",
    "    not_ignore = targets >= 0\n",
    "    diseases_sixties.append(skm.roc_auc_score(targets[not_ignore], probabilities.loc[selection_sixties, col][not_ignore]))\n",
    "            \n",
    "    targets = evaluate_on.loc[selection_seventies ,col].fillna(0)\n",
    "    not_ignore = targets >= 0\n",
    "    diseases_seventies.append(skm.roc_auc_score(targets[not_ignore], probabilities.loc[selection_seventies, col][not_ignore]))        \n",
    "    \n",
    "    targets = evaluate_on.loc[selection_eighties ,col].fillna(0)\n",
    "    not_ignore = targets >= 0\n",
    "    diseases_eighties.append(skm.roc_auc_score(targets[not_ignore], probabilities.loc[selection_eighties, col][not_ignore]))        \n",
    "   \n",
    "    targets = evaluate_on.loc[selection_nineties ,col].fillna(0)\n",
    "    not_ignore = targets >= 0\n",
    "    diseases_nineties.append(skm.roc_auc_score(targets[not_ignore], probabilities.loc[selection_nineties, col][not_ignore]))\n",
    "    \n",
    "print(diseases_teens)\n",
    "print(diseases_twenties)\n",
    "print(diseases_thirties)\n",
    "print(diseases_fourties)\n",
    "print(diseases_fifties)\n",
    "print(diseases_sixties)\n",
    "print(diseases_seventies)\n",
    "print(diseases_eighties)\n",
    "print(diseases_nineties)"
   ]
  },
  {
   "cell_type": "code",
   "execution_count": 37,
   "metadata": {},
   "outputs": [],
   "source": [
    "scores_age = pd.DataFrame([diseases, diseases_teens, diseases_twenties, diseases_thirties, diseases_fourties, diseases_fifties, diseases_sixties, diseases_seventies, diseases_eighties, diseases_nineties], \n",
    "                          columns= prediction_pathology, \n",
    "                          index= ['all', 'teens', 'twenties', 'thirties', 'fourties', 'fifties', 'sixties', 'seventies', 'eighties', 'nineties'])"
   ]
  },
  {
   "cell_type": "code",
   "execution_count": 38,
   "metadata": {},
   "outputs": [],
   "source": [
    "data_age = scores_age.stack().reset_index().rename(columns = {'level_0' : 'cohort', 'level_1' : 'diseases', 0 : 'AUC'})"
   ]
  },
  {
   "cell_type": "code",
   "execution_count": 39,
   "metadata": {},
   "outputs": [
    {
     "data": {
      "text/plain": [
       "<matplotlib.legend.Legend at 0x2aabfc804a10>"
      ]
     },
     "execution_count": 39,
     "metadata": {},
     "output_type": "execute_result"
    },
    {
     "data": {
      "image/png": "[encoded data removed]",
      "text/plain": [
       "<Figure size 1440x360 with 1 Axes>"
      ]
     },
     "metadata": {
      "needs_background": "light"
     },
     "output_type": "display_data"
    }
   ],
   "source": [
    "fig, ax = plt.subplots(1,1, figsize=(20,5))\n",
    "sns.barplot(data = data_age, x = 'diseases', hue='cohort', y='AUC', ax=ax)\n",
    "plt.ylim([0.6, 1])\n",
    "plt.legend(loc= 'upper right', bbox_to_anchor=(1.1,1))"
   ]
  },
  {
   "cell_type": "code",
   "execution_count": 40,
   "metadata": {},
   "outputs": [
    {
     "name": "stdout",
     "output_type": "stream",
     "text": [
      "[0.38578034955248847, 0.5037848251869499, 0.5763700194288008, 0.7237979909190742, 0.6078967082998383]\n",
      "[0.38848696087573675, 0.48713568168606114, 0.5713245871908221, 0.7187889743655447, 0.609666175681426]\n",
      "[0.39491116927891246, 0.5072691307282929, 0.5858455785005897, 0.7281873453630194, 0.6197439360909796]\n",
      "[0.41319016422381294, 0.5345687138306133, 0.5951209082448727, 0.7319124111635756, 0.636453750965448]\n",
      "[0.42477306627684797, 0.5488478068971514, 0.5981509589389071, 0.7365485450797007, 0.645514080805189]\n",
      "[0.43382920413281856, 0.5575594148853743, 0.6093715984091856, 0.7428247093798029, 0.6564279107021082]\n",
      "[0.4690985870491855, 0.5943244036641488, 0.6175327689304254, 0.7481757296439528, 0.6644636708383929]\n",
      "[0.5046981789113939, 0.6068339867794768, 0.6203416917841318, 0.7507884741741909, 0.6686744606523163]\n",
      "[0.5418635421610433, 0.625872684631519, 0.6294027579079071, 0.7592060969292042, 0.6697050766053879]\n"
     ]
    }
   ],
   "source": [
    "diseases_teens= []\n",
    "diseases_twenties= []\n",
    "diseases_thirties = []\n",
    "diseases_fourties = []\n",
    "diseases_fifties = []\n",
    "diseases_sixties = []\n",
    "diseases_seventies = []\n",
    "diseases_eighties = []\n",
    "diseases_nineties = []\n",
    "diseases_all = []\n",
    "\n",
    "\n",
    "for i, col in enumerate(prediction_pathology):\n",
    "    \n",
    "    targets = evaluate_on.loc[:,col].fillna(0)\n",
    "    not_ignore = targets >= 0\n",
    "    diseases_all.append(skm.log_loss(targets[not_ignore], probabilities.loc[:, col][not_ignore]))\n",
    "    \n",
    "    targets = evaluate_on.loc[selection_teens ,col].fillna(0)\n",
    "    not_ignore = targets >= 0\n",
    "    diseases_teens.append(skm.log_loss(targets[not_ignore], probabilities.loc[selection_teens, col][not_ignore]))\n",
    "    \n",
    "    targets = evaluate_on.loc[selection_twenties ,col].fillna(0)\n",
    "    not_ignore = targets >= 0\n",
    "    diseases_twenties.append(skm.log_loss(targets[not_ignore], probabilities.loc[selection_twenties, col][not_ignore]))\n",
    "    \n",
    "    targets = evaluate_on.loc[selection_thirties ,col].fillna(0)\n",
    "    not_ignore = targets >= 0\n",
    "    diseases_thirties.append(skm.log_loss(targets[not_ignore], probabilities.loc[selection_thirties, col][not_ignore]))\n",
    "    \n",
    "    targets = evaluate_on.loc[selection_fourties,col].fillna(0)\n",
    "    not_ignore = targets >= 0\n",
    "    diseases_fourties.append(skm.log_loss(targets[not_ignore], probabilities.loc[selection_fourties, col][not_ignore]))\n",
    "    \n",
    "    targets = evaluate_on.loc[selection_fifties,col].fillna(0)\n",
    "    not_ignore = targets >= 0\n",
    "    diseases_fifties.append(skm.log_loss(targets[not_ignore], probabilities.loc[selection_fifties, col][not_ignore]))\n",
    "        \n",
    "    targets = evaluate_on.loc[selection_sixties ,col].fillna(0)\n",
    "    not_ignore = targets >= 0\n",
    "    diseases_sixties.append(skm.log_loss(targets[not_ignore], probabilities.loc[selection_sixties, col][not_ignore]))\n",
    "            \n",
    "    targets = evaluate_on.loc[selection_seventies ,col].fillna(0)\n",
    "    not_ignore = targets >= 0\n",
    "    diseases_seventies.append(skm.log_loss(targets[not_ignore], probabilities.loc[selection_seventies, col][not_ignore]))        \n",
    "    \n",
    "    targets = evaluate_on.loc[selection_eighties ,col].fillna(0)\n",
    "    not_ignore = targets >= 0\n",
    "    diseases_eighties.append(skm.log_loss(targets[not_ignore], probabilities.loc[selection_eighties, col][not_ignore]))        \n",
    "   \n",
    "    targets = evaluate_on.loc[selection_nineties ,col].fillna(0)\n",
    "    not_ignore = targets >= 0\n",
    "    diseases_nineties.append(skm.log_loss(targets[not_ignore], probabilities.loc[selection_nineties, col][not_ignore]))\n",
    "    \n",
    "print(diseases_teens)\n",
    "print(diseases_twenties)\n",
    "print(diseases_thirties)\n",
    "print(diseases_fourties)\n",
    "print(diseases_fifties)\n",
    "print(diseases_sixties)\n",
    "print(diseases_seventies)\n",
    "print(diseases_eighties)\n",
    "print(diseases_nineties)"
   ]
  },
  {
   "cell_type": "code",
   "execution_count": 41,
   "metadata": {},
   "outputs": [],
   "source": [
    "log_loss_scores_age = pd.DataFrame([diseases_all, diseases_teens, diseases_twenties, diseases_thirties, diseases_fourties, diseases_fifties, diseases_sixties, diseases_seventies, diseases_eighties, diseases_nineties], \n",
    "                          columns= prediction_pathology, \n",
    "                          index= ['all', 'teens', 'twenties', 'thirties', 'fourties', 'fifties', 'sixties', 'seventies', 'eighties', 'nineties'])"
   ]
  },
  {
   "cell_type": "code",
   "execution_count": 42,
   "metadata": {},
   "outputs": [],
   "source": [
    "data_age_loss = log_loss_scores_age.stack().reset_index().rename(columns = {'level_0' : 'cohort', 'level_1' : 'diseases', 0 : 'Log Loss'})"
   ]
  },
  {
   "cell_type": "code",
   "execution_count": 43,
   "metadata": {},
   "outputs": [
    {
     "data": {
      "text/plain": [
       "(0.2, 1.1)"
      ]
     },
     "execution_count": 43,
     "metadata": {},
     "output_type": "execute_result"
    },
    {
     "data": {
      "image/png": "[encoded data removed]",
      "text/plain": [
       "<Figure size 1440x360 with 1 Axes>"
      ]
     },
     "metadata": {
      "needs_background": "light"
     },
     "output_type": "display_data"
    }
   ],
   "source": [
    "fig, ax = plt.subplots(1,1, figsize=(20,5))\n",
    "sns.barplot(data = data_age_loss, x = 'diseases', hue='cohort', y='Log Loss', ax=ax)\n",
    "plt.ylim([0.2, 1.1])"
   ]
  },
  {
   "cell_type": "markdown",
   "metadata": {},
   "source": [
    "## Performance getrennt nach Geschlecht auf 100 zufaelligen sub-samples"
   ]
  },
  {
   "cell_type": "code",
   "execution_count": 44,
   "metadata": {},
   "outputs": [],
   "source": [
    "### umbauen auf die neuen variablen (Varianz (100 Messungen))"
   ]
  },
  {
   "cell_type": "code",
   "execution_count": 45,
   "metadata": {},
   "outputs": [
    {
     "ename": "ValueError",
     "evalue": "multi_class must be in ('ovo', 'ovr')",
     "output_type": "error",
     "traceback": [
      "\u001b[0;31m---------------------------------------------------------------------------\u001b[0m",
      "\u001b[0;31mValueError\u001b[0m                                Traceback (most recent call last)",
      "\u001b[0;32m<ipython-input-45-87ebd76d4d81>\u001b[0m in \u001b[0;36m<module>\u001b[0;34m\u001b[0m\n\u001b[1;32m     14\u001b[0m \u001b[0;34m\u001b[0m\u001b[0m\n\u001b[1;32m     15\u001b[0m     \u001b[0;32mfor\u001b[0m \u001b[0mi\u001b[0m\u001b[0;34m,\u001b[0m \u001b[0mcol\u001b[0m \u001b[0;32min\u001b[0m \u001b[0menumerate\u001b[0m\u001b[0;34m(\u001b[0m\u001b[0mprediction_pathology\u001b[0m\u001b[0;34m)\u001b[0m\u001b[0;34m:\u001b[0m\u001b[0;34m\u001b[0m\u001b[0;34m\u001b[0m\u001b[0m\n\u001b[0;32m---> 16\u001b[0;31m         \u001b[0mdiseases_m\u001b[0m\u001b[0;34m.\u001b[0m\u001b[0mappend\u001b[0m\u001b[0;34m(\u001b[0m\u001b[0mskm\u001b[0m\u001b[0;34m.\u001b[0m\u001b[0mroc_auc_score\u001b[0m\u001b[0;34m(\u001b[0m\u001b[0mevaluate_on\u001b[0m\u001b[0;34m.\u001b[0m\u001b[0mfillna\u001b[0m\u001b[0;34m(\u001b[0m\u001b[0;36m0\u001b[0m\u001b[0;34m)\u001b[0m\u001b[0;34m.\u001b[0m\u001b[0mloc\u001b[0m\u001b[0;34m[\u001b[0m\u001b[0mselection_male\u001b[0m\u001b[0;34m&\u001b[0m\u001b[0mrandom_selection\u001b[0m\u001b[0;34m,\u001b[0m\u001b[0mcol\u001b[0m\u001b[0;34m]\u001b[0m\u001b[0;34m,\u001b[0m \u001b[0mprobabilities\u001b[0m\u001b[0;34m.\u001b[0m\u001b[0mloc\u001b[0m\u001b[0;34m[\u001b[0m\u001b[0mselection_male\u001b[0m\u001b[0;34m&\u001b[0m\u001b[0mrandom_selection\u001b[0m\u001b[0;34m,\u001b[0m\u001b[0mcol\u001b[0m\u001b[0;34m]\u001b[0m\u001b[0;34m)\u001b[0m\u001b[0;34m)\u001b[0m\u001b[0;34m\u001b[0m\u001b[0;34m\u001b[0m\u001b[0m\n\u001b[0m\u001b[1;32m     17\u001b[0m         \u001b[0mdiseases_f\u001b[0m\u001b[0;34m.\u001b[0m\u001b[0mappend\u001b[0m\u001b[0;34m(\u001b[0m\u001b[0mskm\u001b[0m\u001b[0;34m.\u001b[0m\u001b[0mroc_auc_score\u001b[0m\u001b[0;34m(\u001b[0m\u001b[0mevaluate_on\u001b[0m\u001b[0;34m.\u001b[0m\u001b[0mfillna\u001b[0m\u001b[0;34m(\u001b[0m\u001b[0;36m0\u001b[0m\u001b[0;34m)\u001b[0m\u001b[0;34m.\u001b[0m\u001b[0mloc\u001b[0m\u001b[0;34m[\u001b[0m\u001b[0mselection_female\u001b[0m\u001b[0;34m&\u001b[0m\u001b[0mrandom_selection\u001b[0m\u001b[0;34m,\u001b[0m\u001b[0mcol\u001b[0m\u001b[0;34m]\u001b[0m\u001b[0;34m,\u001b[0m \u001b[0mprobabilities\u001b[0m\u001b[0;34m.\u001b[0m\u001b[0mloc\u001b[0m\u001b[0;34m[\u001b[0m\u001b[0mselection_female\u001b[0m\u001b[0;34m&\u001b[0m\u001b[0mrandom_selection\u001b[0m\u001b[0;34m,\u001b[0m\u001b[0mcol\u001b[0m\u001b[0;34m]\u001b[0m\u001b[0;34m)\u001b[0m\u001b[0;34m)\u001b[0m\u001b[0;34m\u001b[0m\u001b[0;34m\u001b[0m\u001b[0m\n\u001b[1;32m     18\u001b[0m         \u001b[0mdiseases_m_log_loss\u001b[0m\u001b[0;34m.\u001b[0m\u001b[0mappend\u001b[0m\u001b[0;34m(\u001b[0m\u001b[0mskm\u001b[0m\u001b[0;34m.\u001b[0m\u001b[0mlog_loss\u001b[0m\u001b[0;34m(\u001b[0m\u001b[0mevaluate_on\u001b[0m\u001b[0;34m.\u001b[0m\u001b[0mfillna\u001b[0m\u001b[0;34m(\u001b[0m\u001b[0;36m0\u001b[0m\u001b[0;34m)\u001b[0m\u001b[0;34m.\u001b[0m\u001b[0mloc\u001b[0m\u001b[0;34m[\u001b[0m\u001b[0mselection_male\u001b[0m\u001b[0;34m&\u001b[0m\u001b[0mrandom_selection\u001b[0m\u001b[0;34m,\u001b[0m\u001b[0mcol\u001b[0m\u001b[0;34m]\u001b[0m\u001b[0;34m,\u001b[0m \u001b[0mprobabilities\u001b[0m\u001b[0;34m.\u001b[0m\u001b[0mloc\u001b[0m\u001b[0;34m[\u001b[0m\u001b[0mselection_male\u001b[0m\u001b[0;34m&\u001b[0m\u001b[0mrandom_selection\u001b[0m\u001b[0;34m,\u001b[0m\u001b[0mcol\u001b[0m\u001b[0;34m]\u001b[0m\u001b[0;34m)\u001b[0m\u001b[0;34m)\u001b[0m\u001b[0;34m\u001b[0m\u001b[0;34m\u001b[0m\u001b[0m\n",
      "\u001b[0;32m~/miniconda3/envs/nextry/lib/python3.7/site-packages/sklearn/utils/validation.py\u001b[0m in \u001b[0;36minner_f\u001b[0;34m(*args, **kwargs)\u001b[0m\n\u001b[1;32m     70\u001b[0m                           FutureWarning)\n\u001b[1;32m     71\u001b[0m         \u001b[0mkwargs\u001b[0m\u001b[0;34m.\u001b[0m\u001b[0mupdate\u001b[0m\u001b[0;34m(\u001b[0m\u001b[0;34m{\u001b[0m\u001b[0mk\u001b[0m\u001b[0;34m:\u001b[0m \u001b[0marg\u001b[0m \u001b[0;32mfor\u001b[0m \u001b[0mk\u001b[0m\u001b[0;34m,\u001b[0m \u001b[0marg\u001b[0m \u001b[0;32min\u001b[0m \u001b[0mzip\u001b[0m\u001b[0;34m(\u001b[0m\u001b[0msig\u001b[0m\u001b[0;34m.\u001b[0m\u001b[0mparameters\u001b[0m\u001b[0;34m,\u001b[0m \u001b[0margs\u001b[0m\u001b[0;34m)\u001b[0m\u001b[0;34m}\u001b[0m\u001b[0;34m)\u001b[0m\u001b[0;34m\u001b[0m\u001b[0;34m\u001b[0m\u001b[0m\n\u001b[0;32m---> 72\u001b[0;31m         \u001b[0;32mreturn\u001b[0m \u001b[0mf\u001b[0m\u001b[0;34m(\u001b[0m\u001b[0;34m**\u001b[0m\u001b[0mkwargs\u001b[0m\u001b[0;34m)\u001b[0m\u001b[0;34m\u001b[0m\u001b[0;34m\u001b[0m\u001b[0m\n\u001b[0m\u001b[1;32m     73\u001b[0m     \u001b[0;32mreturn\u001b[0m \u001b[0minner_f\u001b[0m\u001b[0;34m\u001b[0m\u001b[0;34m\u001b[0m\u001b[0m\n\u001b[1;32m     74\u001b[0m \u001b[0;34m\u001b[0m\u001b[0m\n",
      "\u001b[0;32m~/miniconda3/envs/nextry/lib/python3.7/site-packages/sklearn/metrics/_ranking.py\u001b[0m in \u001b[0;36mroc_auc_score\u001b[0;34m(y_true, y_score, average, sample_weight, max_fpr, multi_class, labels)\u001b[0m\n\u001b[1;32m    382\u001b[0m                              \"instead\".format(max_fpr))\n\u001b[1;32m    383\u001b[0m         \u001b[0;32mif\u001b[0m \u001b[0mmulti_class\u001b[0m \u001b[0;34m==\u001b[0m \u001b[0;34m'raise'\u001b[0m\u001b[0;34m:\u001b[0m\u001b[0;34m\u001b[0m\u001b[0;34m\u001b[0m\u001b[0m\n\u001b[0;32m--> 384\u001b[0;31m             \u001b[0;32mraise\u001b[0m \u001b[0mValueError\u001b[0m\u001b[0;34m(\u001b[0m\u001b[0;34m\"multi_class must be in ('ovo', 'ovr')\"\u001b[0m\u001b[0;34m)\u001b[0m\u001b[0;34m\u001b[0m\u001b[0;34m\u001b[0m\u001b[0m\n\u001b[0m\u001b[1;32m    385\u001b[0m         return _multiclass_roc_auc_score(y_true, y_score, labels,\n\u001b[1;32m    386\u001b[0m                                          multi_class, average, sample_weight)\n",
      "\u001b[0;31mValueError\u001b[0m: multi_class must be in ('ovo', 'ovr')"
     ]
    }
   ],
   "source": [
    "rand_list_m = []\n",
    "rand_list_f = []\n",
    "rand_list_m_log_loss = []\n",
    "rand_list_f_log_loss = []\n",
    "\n",
    "\n",
    "for i in range(100):\n",
    "    random_selection = np.random.rand(len(evaluate_on)) >= 0.2\n",
    "    \n",
    "    diseases_m = []\n",
    "    diseases_f = []\n",
    "    diseases_m_log_loss = []\n",
    "    diseases_f_log_loss = []\n",
    "    \n",
    "    for i, col in enumerate(prediction_pathology):\n",
    "        diseases_m.append(skm.roc_auc_score(evaluate_on.fillna(0).loc[selection_male&random_selection,col], probabilities.loc[selection_male&random_selection,col]))\n",
    "        diseases_f.append(skm.roc_auc_score(evaluate_on.fillna(0).loc[selection_female&random_selection,col], probabilities.loc[selection_female&random_selection,col]))\n",
    "        diseases_m_log_loss.append(skm.log_loss(evaluate_on.fillna(0).loc[selection_male&random_selection,col], probabilities.loc[selection_male&random_selection,col]))\n",
    "        diseases_f_log_loss.append(skm.log_loss(evaluate_on.fillna(0).loc[selection_female&random_selection,col], probabilities.loc[selection_female&random_selection,col]))\n",
    "\n",
    "\n",
    "    rand_list_m.append(diseases_m)\n",
    "    rand_list_f.append(diseases_f)\n",
    "    rand_list_m_log_loss.append(diseases_m_log_loss)\n",
    "    rand_list_f_log_loss.append(diseases_f_log_loss)\n"
   ]
  },
  {
   "cell_type": "code",
   "execution_count": null,
   "metadata": {},
   "outputs": [],
   "source": [
    "matrix_m = np.array(rand_list_m)\n",
    "matrix_m_log_loss = np.array(rand_list_m_log_loss)\n",
    "print(matrix_m.mean(axis=0))\n",
    "print(matrix_m.std(axis=0))"
   ]
  },
  {
   "cell_type": "code",
   "execution_count": null,
   "metadata": {},
   "outputs": [],
   "source": [
    "matrix_f = np.array(rand_list_f)\n",
    "matrix_f_log_loss = np.array(rand_list_f_log_loss)\n",
    "print(matrix_f.mean(axis=0))\n",
    "print(matrix_f.std(axis=0))"
   ]
  },
  {
   "cell_type": "code",
   "execution_count": null,
   "metadata": {},
   "outputs": [],
   "source": [
    "df_m_auc = pd.DataFrame(matrix_m_log_loss, columns = prediction_pathology).stack()"
   ]
  },
  {
   "cell_type": "code",
   "execution_count": null,
   "metadata": {},
   "outputs": [],
   "source": [
    "df_m_log_loss = pd.DataFrame(matrix_m, columns = prediction_pathology).stack()"
   ]
  },
  {
   "cell_type": "code",
   "execution_count": null,
   "metadata": {},
   "outputs": [],
   "source": [
    "df_m_c = pd.concat([df_m_log_loss, df_m_auc], axis=1)       # axis = 1 bedeutet nebeneinander als Spalten (statt untereinander)"
   ]
  },
  {
   "cell_type": "code",
   "execution_count": null,
   "metadata": {},
   "outputs": [],
   "source": [
    "df_m = df_m_c.reset_index()\n",
    "df_m = df_m.rename(columns= {'level_0': 'round', 'level_1': 'pathology', 0: 'auc', 1: 'log loss'})\n",
    "\n",
    "df_m['Sex'] = 'male'"
   ]
  },
  {
   "cell_type": "code",
   "execution_count": null,
   "metadata": {},
   "outputs": [],
   "source": [
    "df_m.head()"
   ]
  },
  {
   "cell_type": "code",
   "execution_count": null,
   "metadata": {},
   "outputs": [],
   "source": [
    "df_f_auc = pd.DataFrame(matrix_f_log_loss, columns = prediction_pathology).stack()\n",
    "df_f_log_loss = pd.DataFrame(matrix_f, columns = prediction_pathology).stack()\n",
    "df_f_c = pd.concat([df_f_log_loss, df_f_auc], axis=1)       # axis = 1 bedeutet nebeneinander als Spalten (statt untereinander)\n",
    "df_f = df_f_c.reset_index()\n",
    "df_f = df_f.rename(columns= {'level_0': 'round', 'level_1': 'pathology', 0: 'auc', 1: 'log loss'})\n",
    "df_f['Sex'] = 'female'\n",
    "df_f.head()"
   ]
  },
  {
   "cell_type": "code",
   "execution_count": null,
   "metadata": {},
   "outputs": [],
   "source": [
    "df = pd.concat([df_m, df_f])"
   ]
  },
  {
   "cell_type": "code",
   "execution_count": null,
   "metadata": {},
   "outputs": [],
   "source": []
  },
  {
   "cell_type": "code",
   "execution_count": null,
   "metadata": {},
   "outputs": [],
   "source": [
    "sex=['female','male']\n",
    "\n",
    "ax = sns.boxplot(data=df, x = 'pathology', y = 'auc',hue='Sex')\n",
    "plt.ylim(0.5,1)"
   ]
  },
  {
   "cell_type": "code",
   "execution_count": null,
   "metadata": {},
   "outputs": [],
   "source": [
    "sex=['female','male']\n",
    "\n",
    "ax = sns.boxplot(data=df, x = 'pathology', y = 'log loss',hue='Sex')\n",
    "#plt.ylim(0.5,1)"
   ]
  },
  {
   "cell_type": "code",
   "execution_count": null,
   "metadata": {},
   "outputs": [],
   "source": []
  },
  {
   "cell_type": "code",
   "execution_count": null,
   "metadata": {},
   "outputs": [],
   "source": []
  },
  {
   "cell_type": "code",
   "execution_count": null,
   "metadata": {},
   "outputs": [],
   "source": []
  },
  {
   "cell_type": "code",
   "execution_count": null,
   "metadata": {},
   "outputs": [],
   "source": []
  },
  {
   "cell_type": "code",
   "execution_count": null,
   "metadata": {},
   "outputs": [],
   "source": []
  }
 ],
 "metadata": {
  "kernelspec": {
   "display_name": "nextry",
   "language": "python",
   "name": "nextry"
  },
  "language_info": {
   "codemirror_mode": {
    "name": "ipython",
    "version": 3
   },
   "file_extension": ".py",
   "mimetype": "text/x-python",
   "name": "python",
   "nbconvert_exporter": "python",
   "pygments_lexer": "ipython3",
   "version": "3.7.10"
  }
 },
 "nbformat": 4,
 "nbformat_minor": 4
}

{
 "cells": [
  {
   "cell_type": "code",
   "execution_count": 133,
   "metadata": {},
   "outputs": [],
   "source": [
    "from easydict import EasyDict as edict\n",
    "import json, os\n",
    "import torch\n",
    "\n",
    "import pandas as pd\n",
    "import numpy as np\n",
    "\n",
    "from scipy.special import expit\n",
    "\n",
    "import matplotlib.pyplot as plt"
   ]
  },
  {
   "cell_type": "code",
   "execution_count": 102,
   "metadata": {},
   "outputs": [],
   "source": [
    "import sys\n",
    "sys.path.append('/home/users/jsoelter/Code/Chexpert/')\n",
    "from model.classifier import Classifier\n",
    "from data.dataset import ImageDataset  "
   ]
  },
  {
   "cell_type": "code",
   "execution_count": 103,
   "metadata": {},
   "outputs": [],
   "source": [
    "data_path = '/work/projects/covid19_dv/raw_data/heavy_datasets/chexpert_stanford/'"
   ]
  },
  {
   "cell_type": "code",
   "execution_count": 18,
   "metadata": {},
   "outputs": [],
   "source": [
    "original_csv = pd.read_csv(os.path.join(data_path, 'CheXpert-v1.0/valid.csv'))\n",
    "\n",
    "# add the correct location of the images\n",
    "modified_csv = original_csv.copy()\n",
    "modified_csv.Path = modified_csv.Path.apply(lambda x: os.path.join(data_path, x))"
   ]
  },
  {
   "cell_type": "markdown",
   "metadata": {},
   "source": [
    "#### Write test data file to disk"
   ]
  },
  {
   "cell_type": "code",
   "execution_count": 106,
   "metadata": {},
   "outputs": [],
   "source": [
    "prediction_csv = '/home/users/jsoelter/chexpert_eval/test01.csv'\n",
    "\n",
    "dirname = os.path.dirname(prediction_csv)\n",
    "if not os.path.exists(dirname):\n",
    "    os.makedirs(dirname)"
   ]
  },
  {
   "cell_type": "code",
   "execution_count": 107,
   "metadata": {},
   "outputs": [],
   "source": [
    "modified_csv.to_csv(prediction_csv, index=False)"
   ]
  },
  {
   "cell_type": "markdown",
   "metadata": {},
   "source": [
    "#### Load model"
   ]
  },
  {
   "cell_type": "code",
   "execution_count": 108,
   "metadata": {},
   "outputs": [],
   "source": [
    "args = {\n",
    "    'config': '/home/users/jsoelter/Code/Chexpert/config/example.json',\n",
    "    'model_weight': '/home/users/jsoelter/Code/Chexpert/config/pre_train.pth',       # \"Path to the trained models\"\n",
    "    'in_csv_path': prediction_csv,   # \"Path to the input image path in csv\"\n",
    "    'num_workers': 8,                # \"workers for each data loader\"\n",
    "}"
   ]
  },
  {
   "cell_type": "code",
   "execution_count": 109,
   "metadata": {},
   "outputs": [],
   "source": [
    "device = 'cuda:0'"
   ]
  },
  {
   "cell_type": "code",
   "execution_count": 116,
   "metadata": {},
   "outputs": [
    {
     "data": {
      "text/plain": [
       "<All keys matched successfully>"
      ]
     },
     "execution_count": 116,
     "metadata": {},
     "output_type": "execute_result"
    }
   ],
   "source": [
    "# open config\n",
    "with open(args['config']) as f:\n",
    "    cfg = edict(json.load(f))\n",
    "\n",
    "# create model\n",
    "model = Classifier(cfg)\n",
    "_ = model.to(device)\n",
    "\n",
    "# load pretrained weights/parameter\n",
    "ckpt = torch.load(args['model_weight'], map_location='cpu')\n",
    "model.load_state_dict(ckpt)"
   ]
  },
  {
   "cell_type": "markdown",
   "metadata": {},
   "source": [
    "### Create Dataloader"
   ]
  },
  {
   "cell_type": "code",
   "execution_count": 117,
   "metadata": {},
   "outputs": [],
   "source": [
    "dataset = ImageDataset(args['in_csv_path'], cfg, mode='test')\n",
    "dataloader_test = torch.utils.data.DataLoader(\n",
    "    dataset,\n",
    "    batch_size=cfg.dev_batch_size, \n",
    "    num_workers=args['num_workers'],\n",
    "    drop_last=False, \n",
    "    shuffle=False\n",
    ")"
   ]
  },
  {
   "cell_type": "code",
   "execution_count": 124,
   "metadata": {},
   "outputs": [],
   "source": [
    "prediction_pathology = [\n",
    "    'Cardiomegaly',\n",
    "    'Edema',\n",
    "    'Consolidation',\n",
    "    'Atelectasis',\n",
    "    'Pleural Effusion'\n",
    "]"
   ]
  },
  {
   "cell_type": "code",
   "execution_count": 142,
   "metadata": {},
   "outputs": [],
   "source": [
    "model.eval()\n",
    "\n",
    "predictions = []\n",
    "for image_batch, path in dataloader_test:\n",
    "    with torch.no_grad():\n",
    "        batch_prediction, _ = model(image_batch.to(device))\n",
    "    batch_prediction = np.hstack([p.cpu().numpy() for p in batch_prediction])\n",
    "    predictions.append(batch_prediction)\n",
    "predictions = np.vstack(predictions)"
   ]
  },
  {
   "cell_type": "code",
   "execution_count": null,
   "metadata": {},
   "outputs": [],
   "source": []
  },
  {
   "cell_type": "code",
   "execution_count": 143,
   "metadata": {},
   "outputs": [],
   "source": [
    "probabilities = expit(predictions)\n",
    "probabilities = pd.DataFrame(probabilities, columns=prediction_pathology)"
   ]
  },
  {
   "cell_type": "code",
   "execution_count": null,
   "metadata": {},
   "outputs": [],
   "source": []
  },
  {
   "cell_type": "code",
   "execution_count": 144,
   "metadata": {},
   "outputs": [],
   "source": [
    "import sklearn.metrics as skm"
   ]
  },
  {
   "cell_type": "code",
   "execution_count": 145,
   "metadata": {},
   "outputs": [
    {
     "data": {
      "text/plain": [
       "0.8949675324675325"
      ]
     },
     "execution_count": 145,
     "metadata": {},
     "output_type": "execute_result"
    }
   ],
   "source": [
    "col = 'Atelectasis'\n",
    "\n",
    "skm.roc_auc_score(modified_csv[col], probabilities[col])"
   ]
  },
  {
   "cell_type": "code",
   "execution_count": null,
   "metadata": {},
   "outputs": [],
   "source": []
  },
  {
   "cell_type": "code",
   "execution_count": null,
   "metadata": {},
   "outputs": [],
   "source": []
  }
 ],
 "metadata": {
  "kernelspec": {
   "display_name": "base",
   "language": "python",
   "name": "base"
  },
  "language_info": {
   "codemirror_mode": {
    "name": "ipython",
    "version": 3
   },
   "file_extension": ".py",
   "mimetype": "text/x-python",
   "name": "python",
   "nbconvert_exporter": "python",
   "pygments_lexer": "ipython3",
   "version": "3.7.7"
  }
 },
 "nbformat": 4,
 "nbformat_minor": 4
}

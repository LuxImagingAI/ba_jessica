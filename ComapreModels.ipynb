{
 "cells": [
  {
   "cell_type": "code",
   "execution_count": 1,
   "id": "44b3e947-fedb-49fd-8a57-8e308ffc767a",
   "metadata": {
    "jupyter": {
     "source_hidden": true
    },
    "tags": []
   },
   "outputs": [],
   "source": [
    "from easydict import EasyDict as edict\n",
    "import json, os\n",
    "import torch\n",
    "\n",
    "import pandas as pd\n",
    "import numpy as np\n",
    "\n",
    "from scipy.special import expit\n",
    "import sklearn.metrics as skm\n",
    "\n",
    "import matplotlib.pyplot as plt"
   ]
  },
  {
   "cell_type": "markdown",
   "id": "b567fe63-1d22-4f3b-bdef-e0edce9b03dd",
   "metadata": {},
   "source": [
    "#### Chexpert Code"
   ]
  },
  {
   "cell_type": "code",
   "execution_count": 2,
   "id": "b8ca64e7-93d4-43d3-84d7-b1c61faecc1c",
   "metadata": {},
   "outputs": [
    {
     "data": {
      "text/plain": [
       "['/work/projects/covid19_dv/jessica_ba/results_1-5_female_70k_3/test_custom_predictions.csv',\n",
       " '/work/projects/covid19_dv/jessica_ba/results_1-5_female_70k_4/test_custom_predictions.csv',\n",
       " '/work/projects/covid19_dv/jessica_ba/results_1-5_female_70k_1/test_custom_predictions.csv',\n",
       " '/work/projects/covid19_dv/jessica_ba/results_male_2_70k/test_custom_predictions.csv',\n",
       " '/work/projects/covid19_dv/jessica_ba/results_3_male_70k/test_custom_predictions.csv',\n",
       " '/work/projects/covid19_dv/jessica_ba/results_1_male_70k/test_custom_predictions.csv',\n",
       " '/work/projects/covid19_dv/jessica_ba/results/test_custom_predictions.csv',\n",
       " '/work/projects/covid19_dv/jessica_ba/results_female/test_custom_predictions.csv',\n",
       " '/work/projects/covid19_dv/jessica_ba/results_70k/test_custom_predictions.csv',\n",
       " '/work/projects/covid19_dv/jessica_ba/results_1-5_female_70k_2/test_custom_predictions.csv',\n",
       " '/work/projects/covid19_dv/jessica_ba/results_1-5_female_70k_5/test_custom_predictions.csv',\n",
       " '/work/projects/covid19_dv/jessica_ba/results_female_70k/test_custom_predictions.csv']"
      ]
     },
     "execution_count": 2,
     "metadata": {},
     "output_type": "execute_result"
    }
   ],
   "source": [
    "import sys\n",
    "sys.path.append('/home/users/jschott/Chexpert/')\n",
    "from model.classifier import Classifier\n",
    "from data.dataset import ImageDataset \n",
    "\n",
    "import glob\n",
    "glob.glob('/work/projects/covid19_dv/jessica_ba/*/test_custom_predictions.csv')"
   ]
  },
  {
   "cell_type": "markdown",
   "id": "e042d8ef-3c1b-4cc9-8f21-046c405027ef",
   "metadata": {},
   "source": [
    "## Load predictions of different models"
   ]
  },
  {
   "cell_type": "code",
   "execution_count": 9,
   "id": "3400b4a8-f45b-4feb-bf86-45fd725097b5",
   "metadata": {},
   "outputs": [],
   "source": [
    "validation_truth = '/work/projects/covid19_dv/jessica_ba/config/valid_exp1.csv'\n",
    "\n",
    "# alle Predictions die geladen werden sollen, mit namen unter dem Sie verwendet werden sollen\n",
    "prediction_files = {\n",
    "    'full_population': '/work/projects/covid19_dv/jessica_ba/results/test_custom_predictions.csv',\n",
    "    'only_female': '/work/projects/covid19_dv/jessica_ba/results_female/test_custom_predictions.csv',\n",
    "    'population_70k': '/work/projects/covid19_dv/jessica_ba/results_70k/test_custom_predictions.csv',\n",
    "    'only_female_70k': '/work/projects/covid19_dv/jessica_ba/results_female_70k/test_custom_predictions.csv',\n",
    "    'only_male_70k': '/work/projects/covid19_dv/jessica_ba/results_1_male_70k/test_custom_predictions.csv',\n",
    "    'only_male_70k_2': '/work/projects/covid19_dv/jessica_ba/results_male_2_70k/test_custom_predictions.csv',\n",
    "    'only_male_70k_3': '/work/projects/covid19_dv/jessica_ba/results_3_male_70k/test_custom_predictions.csv',\n",
    "    'only_male_70k_4'\n",
    "}"
   ]
  },
  {
   "cell_type": "code",
   "execution_count": 10,
   "id": "d514a0a9-fb95-4ab0-b764-181c3fade362",
   "metadata": {},
   "outputs": [],
   "source": [
    "truth_df = pd.read_csv('/work/projects/covid19_dv/jessica_ba/config/valid_exp1.csv')"
   ]
  },
  {
   "cell_type": "code",
   "execution_count": 11,
   "id": "92eddcce-169c-4816-9da7-f14b10509123",
   "metadata": {},
   "outputs": [],
   "source": [
    "probabilities = {}\n",
    "for exp_name, file in prediction_files.items(): \n",
    "    probabilities[exp_name] = pd.read_csv(file)"
   ]
  },
  {
   "cell_type": "code",
   "execution_count": 12,
   "id": "bc6798b5-3c9b-4373-81e7-3fcd2c103559",
   "metadata": {},
   "outputs": [
    {
     "data": {
      "text/plain": [
       "Index(['Path', 'Sex', 'Age', 'Frontal/Lateral', 'AP/PA', 'No Finding',\n",
       "       'Enlarged Cardiomediastinum', 'Cardiomegaly', 'Lung Opacity',\n",
       "       'Lung Lesion', 'Edema', 'Consolidation', 'Pneumonia', 'Atelectasis',\n",
       "       'Pneumothorax', 'Pleural Effusion', 'Pleural Other', 'Fracture',\n",
       "       'Support Devices', 'PatientId'],\n",
       "      dtype='object')"
      ]
     },
     "execution_count": 12,
     "metadata": {},
     "output_type": "execute_result"
    }
   ],
   "source": [
    "truth_df.columns"
   ]
  },
  {
   "cell_type": "code",
   "execution_count": 13,
   "id": "f756166d-fa1d-42a4-a5d8-b8906052c401",
   "metadata": {},
   "outputs": [
    {
     "name": "stdout",
     "output_type": "stream",
     "text": [
      "full_population Edema AUC: 0.855, log loss: 0.567\n",
      "only_female Edema AUC: 0.832, log loss: 0.581\n",
      "population_70k Edema AUC: 0.852, log loss: 0.584\n",
      "only_female_70k Edema AUC: 0.812, log loss: 0.616\n",
      "only_male_70k Edema AUC: 0.835, log loss: 0.572\n",
      "only_male_70k_2 Edema AUC: 0.840, log loss: 0.592\n",
      "only_male_70k_3 Edema AUC: 0.848, log loss: 0.576\n"
     ]
    }
   ],
   "source": [
    "col = 'Edema' #'Consolidation'# #'Cardiomegaly'\n",
    "#population_selection = truth_df.Sex.isin(['Female', 'Male'])\n",
    "#population_selection = truth_df.Sex.isin(['Male'])\n",
    "population_selection = truth_df.Sex.isin(['Female'])\n",
    "\n",
    "for exp_name in prediction_files: \n",
    "\n",
    "    targets = truth_df[col].fillna(0)    # Spalte mit 0en Auffüllen\n",
    "    not_ignore = targets >= 0            # ignoriere alle Werte kleiner 0\n",
    "    #print(f'{(~not_ignore).sum()} images neglected due to -1') # formatiert den String (die Variable in den geschweiften Klammern)\n",
    "    \n",
    "    auc = skm.roc_auc_score( # berechne, wie gut das Modell vorhersagt für die jeweilige Krankheit mit den Werten >= 0\n",
    "        targets[not_ignore & population_selection], \n",
    "        probabilities[exp_name][col][not_ignore & population_selection]) \n",
    "    \n",
    "    lloss = skm.log_loss(\n",
    "        targets[not_ignore & population_selection], \n",
    "        probabilities[exp_name][col][not_ignore & population_selection]\n",
    "    )\n",
    "\n",
    "    print(f'{exp_name} {col} AUC: {auc:.3f}, log loss: {lloss:.3f}') "
   ]
  },
  {
   "cell_type": "code",
   "execution_count": null,
   "id": "8e87cddb-31d4-4b65-9721-b34b6113143c",
   "metadata": {},
   "outputs": [],
   "source": []
  },
  {
   "cell_type": "code",
   "execution_count": null,
   "id": "179978b8-4d58-458e-8b30-3a3ae11e5daf",
   "metadata": {},
   "outputs": [],
   "source": []
  },
  {
   "cell_type": "code",
   "execution_count": null,
   "id": "d518d326-419d-41e8-839b-eeea449c1be3",
   "metadata": {},
   "outputs": [],
   "source": []
  }
 ],
 "metadata": {
  "kernelspec": {
   "display_name": "nextry",
   "language": "python",
   "name": "nextry"
  },
  "language_info": {
   "codemirror_mode": {
    "name": "ipython",
    "version": 3
   },
   "file_extension": ".py",
   "mimetype": "text/x-python",
   "name": "python",
   "nbconvert_exporter": "python",
   "pygments_lexer": "ipython3",
   "version": "3.7.10"
  }
 },
 "nbformat": 4,
 "nbformat_minor": 5
}
